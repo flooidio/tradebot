{
 "cells": [
  {
   "cell_type": "code",
   "execution_count": null,
   "metadata": {},
   "outputs": [
    {
     "name": "stdout",
     "output_type": "stream",
     "text": [
      "Connecting to hello world server...\n",
      "Sending request 0 ...\n"
     ]
    }
   ],
   "source": [
    "#\n",
    "# Hello World client in Python\n",
    "# Connects REQ socket to tcp://localhost:5555\n",
    "# Sends \"Hello\" to server, expects \"World\" back\n",
    "#\n",
    "\n",
    "import zmq\n",
    "\n",
    "context = zmq.Context()\n",
    "\n",
    "# Socket to talk to server\n",
    "print(\"Connecting to hello world server...\")\n",
    "socket = context.socket(zmq.REQ)\n",
    "socket.connect(\"tcp://142.93.94.158:5555\")\n",
    "\n",
    "# Do 10 requests, waiting each time for a response\n",
    "for request in range(10):\n",
    "    print(\"Sending request %s ...\" % request)\n",
    "    socket.send(b\"Hello\")\n",
    "    \n",
    "    #Get the reply\n",
    "    message = socket.recv()\n",
    "    print('Received reply %s [ %s ]' % (request, message))\n",
    "    "
   ]
  },
  {
   "cell_type": "code",
   "execution_count": null,
   "metadata": {},
   "outputs": [],
   "source": []
  }
 ],
 "metadata": {
  "kernelspec": {
   "display_name": "Python 3",
   "language": "python",
   "name": "python3"
  },
  "language_info": {
   "codemirror_mode": {
    "name": "ipython",
    "version": 3
   },
   "file_extension": ".py",
   "mimetype": "text/x-python",
   "name": "python",
   "nbconvert_exporter": "python",
   "pygments_lexer": "ipython3",
   "version": "3.8.5"
  }
 },
 "nbformat": 4,
 "nbformat_minor": 4
}
