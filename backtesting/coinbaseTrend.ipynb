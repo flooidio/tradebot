{
 "cells": [
  {
   "cell_type": "code",
   "execution_count": 52,
   "metadata": {},
   "outputs": [
    {
     "data": {
      "text/plain": [
       "<bound method NDFrame.head of      Unnamed: 0        id base_currency quote_currency  base_min_size  \\\n",
       "2             2  AAVE-USD          AAVE            USD          0.010   \n",
       "4             4   LTC-USD           LTC            USD          0.100   \n",
       "26           26  BTC-USDC           BTC           USDC          0.001   \n",
       "36           36   GRT-USD           GRT            USD         10.000   \n",
       "59           59  ETH-USDC           ETH           USDC          0.010   \n",
       "63           63  ZEC-USDC           ZEC           USDC          0.010   \n",
       "64           64   ETH-EUR           ETH            EUR          0.010   \n",
       "65           65   LTC-EUR           LTC            EUR          0.100   \n",
       "70           70   LTC-GBP           LTC            GBP          0.100   \n",
       "81           81   BTC-USD           BTC            USD          0.001   \n",
       "95           95   BCH-USD           BCH            USD          0.010   \n",
       "97           97   ETH-GBP           ETH            GBP          0.010   \n",
       "98           98   BCH-EUR           BCH            EUR          0.010   \n",
       "101         101   ETH-USD           ETH            USD          0.010   \n",
       "103         103   BTC-EUR           BTC            EUR          0.001   \n",
       "111         111   BCH-GBP           BCH            GBP          0.010   \n",
       "\n",
       "     base_max_size  quote_increment  base_increment display_name  \\\n",
       "2           1200.0           0.0010    1.000000e-03     AAVE/USD   \n",
       "4           4000.0           0.0100    1.000000e-08      LTC/USD   \n",
       "26           280.0           0.0100    1.000000e-08     BTC/USDC   \n",
       "36       2500000.0           0.0001    1.000000e-02      GRT/USD   \n",
       "59          2800.0           0.0100    1.000000e-08     ETH/USDC   \n",
       "63          5000.0           0.0100    1.000000e-08     ZEC/USDC   \n",
       "64          1600.0           0.0100    1.000000e-08      ETH/EUR   \n",
       "65          1000.0           0.0100    1.000000e-08      LTC/EUR   \n",
       "70          1000.0           0.0100    1.000000e-08      LTC/GBP   \n",
       "81           280.0           0.0100    1.000000e-08      BTC/USD   \n",
       "95           700.0           0.0100    1.000000e-08      BCH/USD   \n",
       "97          1400.0           0.0100    1.000000e-08      ETH/GBP   \n",
       "98           100.0           0.0100    1.000000e-08      BCH/EUR   \n",
       "101         2800.0           0.0100    1.000000e-08      ETH/USD   \n",
       "103          200.0           0.0100    1.000000e-08      BTC/EUR   \n",
       "111          250.0           0.0100    1.000000e-08      BCH/GBP   \n",
       "\n",
       "     min_market_funds  max_market_funds  margin_enabled  post_only  \\\n",
       "2                 1.0          500000.0           False      False   \n",
       "4                10.0          250000.0           False      False   \n",
       "26               10.0         1000000.0           False      False   \n",
       "36               10.0         2500000.0           False      False   \n",
       "59               10.0         1000000.0           False      False   \n",
       "63               10.0          250000.0           False      False   \n",
       "64               10.0          400000.0           False      False   \n",
       "65               10.0          250000.0           False      False   \n",
       "70               10.0          250000.0           False      False   \n",
       "81                5.0         1000000.0           False      False   \n",
       "95               10.0          500000.0           False      False   \n",
       "97               10.0         1000000.0           False      False   \n",
       "98               10.0          300000.0           False      False   \n",
       "101               5.0         1000000.0           False      False   \n",
       "103              10.0          600000.0           False      False   \n",
       "111              10.0          500000.0           False      False   \n",
       "\n",
       "     limit_only  cancel_only  trading_disabled  status  status_message  \n",
       "2         False        False             False  online             NaN  \n",
       "4         False        False             False  online             NaN  \n",
       "26        False        False             False  online             NaN  \n",
       "36        False        False             False  online             NaN  \n",
       "59        False        False             False  online             NaN  \n",
       "63        False        False             False  online             NaN  \n",
       "64        False        False             False  online             NaN  \n",
       "65        False        False             False  online             NaN  \n",
       "70        False        False             False  online             NaN  \n",
       "81        False        False             False  online             NaN  \n",
       "95        False        False             False  online             NaN  \n",
       "97        False        False             False  online             NaN  \n",
       "98        False        False             False  online             NaN  \n",
       "101       False        False             False  online             NaN  \n",
       "103       False        False             False  online             NaN  \n",
       "111       False        False             False  online             NaN  >"
      ]
     },
     "execution_count": 52,
     "metadata": {},
     "output_type": "execute_result"
    }
   ],
   "source": [
    "# Coinbase Trend Analysis\n",
    "\n",
    "import os\n",
    "\n",
    "import cbpro\n",
    "\n",
    "import json, hmac, hashlib, time, requests, base64\n",
    "from requests.auth import AuthBase\n",
    "\n",
    "import time\n",
    "import numpy as np\n",
    "import pandas as pd\n",
    "import datetime as dt\n",
    "from pylab import mpl, plt\n",
    "\n",
    "# get list of products\n",
    "\n",
    "data = pd.read_csv('products.csv')\n",
    "\n",
    "data = data.loc[data['quote_currency'].isin(['USD', 'USDC'])]\n",
    "\n",
    "data = data.loc[data['max_market_funds']>=250000]\n",
    "\n",
    "data.to_csv('products_to_screen.csv')\n",
    "\n",
    "'''\n",
    "# Refresh product list:\n",
    "\n",
    "# Define Public Client\n",
    "public_client = cbpro.PublicClient()\n",
    "\n",
    "# Get Products\n",
    "products = pd.DataFrame(public_client.get_products())\n",
    "\n",
    "products.sort_values('base_currency')\n",
    "\n",
    "print(products[:10])\n",
    "\n",
    "products.to_csv('products.csv')\n",
    "'''\n",
    "\n",
    "data.head()"
   ]
  },
  {
   "cell_type": "code",
   "execution_count": 54,
   "metadata": {},
   "outputs": [],
   "source": [
    "# Get Historic Rates\n",
    "# the max number of data points for a single request is 300 candles\n",
    "# if start/end time and granularity results in more than 300 data points,\n",
    "# the request will be rejected.\n",
    "# Make multiple requests if fine granularity results in > 300 data points.\n",
    "\n",
    "# Requesting data can take up to several minutes to complete execution.\n",
    "\n",
    "import cbpro\n",
    "import json, hmac, hashlib, time, requests, base64\n",
    "from requests.auth import AuthBase\n",
    "import pandas as pd\n",
    "import time\n",
    "\n",
    "# Define Public Client\n",
    "public_client = cbpro.PublicClient()\n",
    "\n",
    "# Define ticker symbols to retrieve\n",
    "symbols = data['id'].values\n",
    "\n",
    "# Known issue: start and end dates results in error\n",
    "# Default returns 300 data points at specified granularity\n",
    "# Optional parameters: start and end dates need to be in ISO 8601 format (YYYYMMDD)\n",
    "#start = 20201215\n",
    "#end = 20201231\n",
    "\n",
    "# granularity is the time between ticks and must be one of these values:\n",
    "# {60, 300, 900, 3600, 21600, 86400} which corresponds to\n",
    "# one minute (60 sec), five minutes (300 sec), fifteen minutes (900 sec),\n",
    "# one hour (3600 sec), six hours (21600 sec), and one day (86400 sec)\n",
    "\n",
    "granularity = 86400\n",
    "\n",
    "# Coinbase requests are rate limited to 3 - 6 requests per second\n",
    "# https://docs.pro.coinbase.com/#rate-limits\n",
    "\n",
    "# Data Columns: 0:'time', 1:'low', 2:'high', 3:'open', 4:'close', 5:'volume'\n",
    "\n",
    "for symbol in symbols:\n",
    "    try:\n",
    "        temp = pd.DataFrame(public_client.get_product_historic_rates(symbol, granularity=granularity))\n",
    "        temp.rename(columns={4:symbol}, inplace=True)\n",
    "    except: print(\"Request Error\")\n",
    "\n",
    "    try:\n",
    "        tick_data.loc[:, symbol] = temp.iloc[:, 4]\n",
    "    except:\n",
    "        tick_data = pd.DataFrame(temp.iloc[:, 4]) \n",
    "        \n",
    "    time.sleep(0.4) # delay > 0.333 sec or 3 requests per sec (1 second/3 requests = .333 seconds/request)\n",
    "\n",
    "tick_data.to_csv('daily.csv')"
   ]
  },
  {
   "cell_type": "code",
   "execution_count": 62,
   "metadata": {},
   "outputs": [
    {
     "data": {
      "text/plain": [
       "<bound method NDFrame.head of             GRT-GBP  DAI-USD  BAL-BTC  AAVE-USD  SNX-EUR  LTC-USD  XTZ-EUR  \\\n",
       "0                                                                            \n",
       "2020-12-17   0.0927   0.0927   0.0927    85.174   0.0927   101.17   0.0927   \n",
       "2020-12-18   0.1947   0.1947   0.1947    90.999   0.1947   109.46   0.1947   \n",
       "2020-12-19   0.3555   0.3555   0.3555    88.767   0.3555   120.02   0.3555   \n",
       "2020-12-20   0.5558   0.5558   0.5558    85.460   0.5558   114.65   0.5558   \n",
       "2020-12-21   0.3508   0.3508   0.3508    80.820   0.3508   104.44   0.3508   \n",
       "2020-12-22   0.4081   0.4081   0.4081    84.357   0.4081   114.31   0.4081   \n",
       "2020-12-23   0.3011   0.3011   0.3011    75.608   0.3011   102.35   0.3011   \n",
       "2020-12-24   0.3035   0.3035   0.3035    80.633   0.3035   111.20   0.3035   \n",
       "2020-12-25   0.2648   0.2648   0.2648    79.771   0.2648   127.67   0.2648   \n",
       "2020-12-26   0.3586   0.3586   0.3586    75.033   0.3586   129.56   0.3586   \n",
       "2020-12-27   0.2940   0.2940   0.2940    76.857   0.2940   127.60   0.2940   \n",
       "2020-12-28   0.2833   0.2833   0.2833    81.798   0.2833   129.69   0.2833   \n",
       "2020-12-29   0.2766   0.2766   0.2766    78.076   0.2766   128.69   0.2766   \n",
       "2020-12-30   0.2753   0.2753   0.2753    81.240   0.2753   130.11   0.2753   \n",
       "2020-12-31   0.2549   0.2549   0.2549    88.571   0.2549   124.41   0.2549   \n",
       "2021-01-01   0.2633   0.2633   0.2633    88.546   0.2633   126.04   0.2633   \n",
       "\n",
       "            XTZ-USD  BAT-USDC  XRP-EUR  ...  EOS-USD  ETC-BTC  ETC-GBP  \\\n",
       "0                                       ...                              \n",
       "2020-12-17   0.0927    0.0927   0.0927  ...   0.0927   0.0927   0.0927   \n",
       "2020-12-18   0.1947    0.1947   0.1947  ...   0.1947   0.1947   0.1947   \n",
       "2020-12-19   0.3555    0.3555   0.3555  ...   0.3555   0.3555   0.3555   \n",
       "2020-12-20   0.5558    0.5558   0.5558  ...   0.5558   0.5558   0.5558   \n",
       "2020-12-21   0.3508    0.3508   0.3508  ...   0.3508   0.3508   0.3508   \n",
       "2020-12-22   0.4081    0.4081   0.4081  ...   0.4081   0.4081   0.4081   \n",
       "2020-12-23   0.3011    0.3011   0.3011  ...   0.3011   0.3011   0.3011   \n",
       "2020-12-24   0.3035    0.3035   0.3035  ...   0.3035   0.3035   0.3035   \n",
       "2020-12-25   0.2648    0.2648   0.2648  ...   0.2648   0.2648   0.2648   \n",
       "2020-12-26   0.3586    0.3586   0.3586  ...   0.3586   0.3586   0.3586   \n",
       "2020-12-27   0.2940    0.2940   0.2940  ...   0.2940   0.2940   0.2940   \n",
       "2020-12-28   0.2833    0.2833   0.2833  ...   0.2833   0.2833   0.2833   \n",
       "2020-12-29   0.2766    0.2766   0.2766  ...   0.2766   0.2766   0.2766   \n",
       "2020-12-30   0.2753    0.2753   0.2753  ...   0.2753   0.2753   0.2753   \n",
       "2020-12-31   0.2549    0.2549   0.2549  ...   0.2549   0.2549   0.2549   \n",
       "2021-01-01   0.2633    0.2633   0.2633  ...   0.2633   0.2633   0.2633   \n",
       "\n",
       "            ETH-USDC  ZEC-USDC  ETH-EUR  LTC-EUR  LTC-GBP  ETH-GBP  ETH-USD  \n",
       "0                                                                            \n",
       "2020-12-17    643.39     74.44   522.84    82.32    74.51   473.40   643.37  \n",
       "2020-12-18    654.88     74.01   533.59    89.24    80.94   485.04   654.66  \n",
       "2020-12-19    658.34     73.50   535.81    97.50    88.86   488.95   658.96  \n",
       "2020-12-20    638.31     73.53   521.70    93.55    85.11   476.79   638.40  \n",
       "2020-12-21    608.59     68.11   497.14    85.36    78.04   452.18   608.07  \n",
       "2020-12-22    637.35     67.70   523.24    93.94    85.65   476.29   636.82  \n",
       "2020-12-23    585.52     55.44   480.61    83.99    76.11   434.29   585.11  \n",
       "2020-12-24    612.47     62.15   502.72    91.32    82.17   452.33   612.27  \n",
       "2020-12-25    626.27     64.35   513.30   104.59    93.94   462.04   626.75  \n",
       "2020-12-26    637.31     66.62   521.23   105.98    95.41   468.99   636.52  \n",
       "2020-12-27    683.97     66.94   557.51   104.10    93.97   504.99   684.12  \n",
       "2020-12-28    730.40     69.15   597.46   106.06    96.28   542.18   729.70  \n",
       "2020-12-29    731.66     65.54   597.23   105.04    95.62   542.00   731.76  \n",
       "2020-12-30    752.34     63.94   612.12   105.64    95.35   551.93   752.86  \n",
       "2020-12-31    737.75     63.89   603.67   101.73    91.11   539.71   737.67  \n",
       "2021-01-01    730.37     56.12   598.83   103.28    92.38   535.30   730.56  \n",
       "\n",
       "[16 rows x 83 columns]>"
      ]
     },
     "execution_count": 62,
     "metadata": {},
     "output_type": "execute_result"
    }
   ],
   "source": [
    "# work with saved historic data to minimize the number of api requests\n",
    "\n",
    "import pandas as pd\n",
    "import numpy as np\n",
    "from pylab import mpl, plt\n",
    "\n",
    "tick_data = pd.read_csv('daily.csv', index_col=0)\n",
    "\n",
    "tick_data.iloc[:, 0] = pd.to_datetime(tick_data.iloc[:, 0], infer_datetime_format=True, unit='s')\n",
    "\n",
    "tick_data.set_index('0', inplace=True)\n",
    "\n",
    "tick_data.sort_values(by='0', inplace=True)\n",
    "\n",
    "tick_data.head"
   ]
  },
  {
   "cell_type": "code",
   "execution_count": 94,
   "metadata": {},
   "outputs": [
    {
     "data": {
      "text/plain": [
       "<AxesSubplot:xlabel='0'>"
      ]
     },
     "execution_count": 94,
     "metadata": {},
     "output_type": "execute_result"
    },
    {
     "data": {
      "image/png": "[encoded data removed]",
      "text/plain": [
       "<Figure size 720x432 with 1 Axes>"
      ]
     },
     "metadata": {
      "needs_background": "light"
     },
     "output_type": "display_data"
    }
   ],
   "source": [
    "# Normalize Price Data\n",
    "\n",
    "import pandas as pd\n",
    "import numpy as np\n",
    "from pylab import mpl, plt\n",
    "\n",
    "returns = pd.DataFrame(tick_data/tick_data.iloc[0,:])\n",
    "\n",
    "returns.plot(figsize=(10,6), legend = False)"
   ]
  },
  {
   "cell_type": "code",
   "execution_count": 84,
   "metadata": {},
   "outputs": [
    {
     "data": {
      "text/plain": [
       "<AxesSubplot:>"
      ]
     },
     "execution_count": 84,
     "metadata": {},
     "output_type": "execute_result"
    },
    {
     "data": {
      "image/png": "[encoded data removed]",
      "text/plain": [
       "<Figure size 720x432 with 1 Axes>"
      ]
     },
     "metadata": {
      "needs_background": "light"
     },
     "output_type": "display_data"
    }
   ],
   "source": [
    "momentum['momentum'] = pd.DataFrame((returns.iloc[-1]-returns.iloc[0]).round(4))\n",
    "momentum = momentum.sort_values(by='momentum', ascending=False)\n",
    "momentum[:10].plot(figsize=(10,6), legend=False)"
   ]
  },
  {
   "cell_type": "code",
   "execution_count": 85,
   "metadata": {},
   "outputs": [],
   "source": [
    "returns.to_csv('returns.csv')\n",
    "momentum.to_csv('momentum.csv')"
   ]
  },
  {
   "cell_type": "code",
   "execution_count": null,
   "metadata": {},
   "outputs": [],
   "source": []
  }
 ],
 "metadata": {
  "kernelspec": {
   "display_name": "Python 3",
   "language": "python",
   "name": "python3"
  },
  "language_info": {
   "codemirror_mode": {
    "name": "ipython",
    "version": 3
   },
   "file_extension": ".py",
   "mimetype": "text/x-python",
   "name": "python",
   "nbconvert_exporter": "python",
   "pygments_lexer": "ipython3",
   "version": "3.8.5"
  }
 },
 "nbformat": 4,
 "nbformat_minor": 4
}
