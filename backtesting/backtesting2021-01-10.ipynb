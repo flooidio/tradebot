{
 "cells": [
  {
   "cell_type": "code",
   "execution_count": 11,
   "metadata": {},
   "outputs": [
    {
     "data": {
      "text/plain": [
       "<bound method NDFrame.head of            <TICKER>  <PER>  <TIME>   <OPEN>   <HIGH>    <LOW>  <CLOSE>  <VOL>  \\\n",
       "<DATE>                                                                          \n",
       "2020-11-20    BTC.V      5       0  17881.2  17901.3  17873.8  17876.5      0   \n",
       "2020-11-20    BTC.V      5     500  17879.0  17882.8  17791.3  17791.3      0   \n",
       "2020-11-20    BTC.V      5    1000  17803.2  17811.3  17778.8  17798.6      0   \n",
       "2020-11-20    BTC.V      5    1500  17792.4  17802.3  17785.3  17789.1      0   \n",
       "2020-11-20    BTC.V      5    2000  17784.0  17800.9  17723.8  17731.1      0   \n",
       "...             ...    ...     ...      ...      ...      ...      ...    ...   \n",
       "2021-01-09    BTC.V      5  232500  40596.1  40599.7  40494.0  40494.0      0   \n",
       "2021-01-09    BTC.V      5  233000  40505.2  40563.4  40325.3  40325.3      0   \n",
       "2021-01-09    BTC.V      5  233500  40312.1  40393.8  40287.5  40337.3      0   \n",
       "2021-01-09    BTC.V      5  234000  40340.5  40385.1  40297.4  40377.6      0   \n",
       "2021-01-09    BTC.V      5  234500  40375.3  40436.6  40296.4  40436.6      0   \n",
       "\n",
       "            <OPENINT>  \n",
       "<DATE>                 \n",
       "2020-11-20          0  \n",
       "2020-11-20          0  \n",
       "2020-11-20          0  \n",
       "2020-11-20          0  \n",
       "2020-11-20          0  \n",
       "...               ...  \n",
       "2021-01-09          0  \n",
       "2021-01-09          0  \n",
       "2021-01-09          0  \n",
       "2021-01-09          0  \n",
       "2021-01-09          0  \n",
       "\n",
       "[14533 rows x 9 columns]>"
      ]
     },
     "execution_count": 11,
     "metadata": {},
     "output_type": "execute_result"
    }
   ],
   "source": [
    "# work with saved historic data to minimize the number of api requests\n",
    "\n",
    "import pandas as pd\n",
    "import os\n",
    "\n",
    "symbol = 'btc'\n",
    "\n",
    "tick_data = pd.read_csv(symbol+'.v.txt', index_col=2, infer_datetime_format=True, parse_dates=True)\n",
    "\n",
    "#tick_data.iloc[:, 0] = pd.to_datetime(tick_data.iloc[:, 0], infer_datetime_format=True, unit='s')\n",
    "\n",
    "#tick_data.set_index('time', inplace=True)\n",
    "\n",
    "tick_data.sort_index(inplace=True)\n",
    "\n",
    "tick_data.head"
   ]
  },
  {
   "cell_type": "code",
   "execution_count": 13,
   "metadata": {},
   "outputs": [
    {
     "data": {
      "image/png": "[encoded data removed]",
      "text/plain": [
       "<Figure size 720x432 with 1 Axes>"
      ]
     },
     "metadata": {
      "needs_background": "light"
     },
     "output_type": "display_data"
    }
   ],
   "source": [
    "import time\n",
    "import numpy as np\n",
    "import pandas as pd\n",
    "import datetime as dt\n",
    "from pylab import mpl, plt\n",
    "\n",
    "sub = tick_data.copy()\n",
    "\n",
    "# analyze data sub-set\n",
    "\n",
    "i = 20 # Number of ticks to use for simple moving average (SMA)\n",
    "\n",
    "sub['Mid'] = sub.loc[:, ('<OPEN>','<CLOSE>')].mean(axis=1)\n",
    "sub['SMA'] = sub.loc[:, 'Mid'].rolling(i).mean().shift(i)\n",
    "sub[['Mid', 'SMA']].plot(figsize=(10,6), lw=0.75, title='BTC-USD', ylabel='USD/BTC')\n",
    "plt.savefig('1-BTC-USD_SMA.png')\n",
    "plt.show()"
   ]
  },
  {
   "cell_type": "code",
   "execution_count": 16,
   "metadata": {},
   "outputs": [
    {
     "data": {
      "text/html": [
       "<div>\n",
       "<style scoped>\n",
       "    .dataframe tbody tr th:only-of-type {\n",
       "        vertical-align: middle;\n",
       "    }\n",
       "\n",
       "    .dataframe tbody tr th {\n",
       "        vertical-align: top;\n",
       "    }\n",
       "\n",
       "    .dataframe thead th {\n",
       "        text-align: right;\n",
       "    }\n",
       "</style>\n",
       "<table border=\"1\" class=\"dataframe\">\n",
       "  <thead>\n",
       "    <tr style=\"text-align: right;\">\n",
       "      <th></th>\n",
       "      <th>lag_1</th>\n",
       "      <th>lag_2</th>\n",
       "      <th>lag_3</th>\n",
       "      <th>lag_4</th>\n",
       "      <th>lag_5</th>\n",
       "      <th>direction</th>\n",
       "    </tr>\n",
       "    <tr>\n",
       "      <th>&lt;DATE&gt;</th>\n",
       "      <th></th>\n",
       "      <th></th>\n",
       "      <th></th>\n",
       "      <th></th>\n",
       "      <th></th>\n",
       "      <th></th>\n",
       "    </tr>\n",
       "  </thead>\n",
       "  <tbody>\n",
       "    <tr>\n",
       "      <th>2020-11-20</th>\n",
       "      <td>1.0</td>\n",
       "      <td>0.0</td>\n",
       "      <td>0.0</td>\n",
       "      <td>0.0</td>\n",
       "      <td>0.0</td>\n",
       "      <td>1</td>\n",
       "    </tr>\n",
       "    <tr>\n",
       "      <th>2020-11-20</th>\n",
       "      <td>1.0</td>\n",
       "      <td>1.0</td>\n",
       "      <td>0.0</td>\n",
       "      <td>0.0</td>\n",
       "      <td>0.0</td>\n",
       "      <td>1</td>\n",
       "    </tr>\n",
       "    <tr>\n",
       "      <th>2020-11-20</th>\n",
       "      <td>1.0</td>\n",
       "      <td>1.0</td>\n",
       "      <td>1.0</td>\n",
       "      <td>0.0</td>\n",
       "      <td>0.0</td>\n",
       "      <td>1</td>\n",
       "    </tr>\n",
       "    <tr>\n",
       "      <th>2020-11-20</th>\n",
       "      <td>1.0</td>\n",
       "      <td>1.0</td>\n",
       "      <td>1.0</td>\n",
       "      <td>1.0</td>\n",
       "      <td>0.0</td>\n",
       "      <td>-1</td>\n",
       "    </tr>\n",
       "    <tr>\n",
       "      <th>2020-11-20</th>\n",
       "      <td>0.0</td>\n",
       "      <td>1.0</td>\n",
       "      <td>1.0</td>\n",
       "      <td>1.0</td>\n",
       "      <td>1.0</td>\n",
       "      <td>-1</td>\n",
       "    </tr>\n",
       "  </tbody>\n",
       "</table>\n",
       "</div>"
      ],
      "text/plain": [
       "            lag_1  lag_2  lag_3  lag_4  lag_5  direction\n",
       "<DATE>                                                  \n",
       "2020-11-20    1.0    0.0    0.0    0.0    0.0          1\n",
       "2020-11-20    1.0    1.0    0.0    0.0    0.0          1\n",
       "2020-11-20    1.0    1.0    1.0    0.0    0.0          1\n",
       "2020-11-20    1.0    1.0    1.0    1.0    0.0         -1\n",
       "2020-11-20    0.0    1.0    1.0    1.0    1.0         -1"
      ]
     },
     "execution_count": 16,
     "metadata": {},
     "output_type": "execute_result"
    }
   ],
   "source": [
    "import pandas as pd\n",
    "import numpy as np\n",
    "\n",
    "# vectorized backtesting\n",
    "\n",
    "ptc = 0.005 # proportional transactional costs - Coinbase Pro charges 0.5% per transaction\n",
    "\n",
    "data = pd.DataFrame()\n",
    "data['returns'] = np.log(sub['Mid']/sub['Mid'].shift(1))\n",
    "\n",
    "data.dropna(inplace=True)\n",
    "\n",
    "lags = 5\n",
    "\n",
    "cols = []\n",
    "\n",
    "for lag in range(1, lags+1):\n",
    "    col = 'lag_{}'.format(lag)\n",
    "    data[col] = data['returns'].shift(lag)\n",
    "    cols.append(col)\n",
    "\n",
    "data.dropna(inplace=True)\n",
    "\n",
    "data[cols] = np.where(data[cols] > 0, 1, 0)\n",
    "\n",
    "data['direction'] = np.where(data['returns'] > 0, 1, -1)\n",
    "\n",
    "data[cols + ['direction']].head()"
   ]
  },
  {
   "cell_type": "code",
   "execution_count": 17,
   "metadata": {},
   "outputs": [
    {
     "data": {
      "text/plain": [
       "SVC(C=1, gamma='auto', kernel='linear')"
      ]
     },
     "execution_count": 17,
     "metadata": {},
     "output_type": "execute_result"
    }
   ],
   "source": [
    "from sklearn.svm import SVC\n",
    "from sklearn.metrics import accuracy_score\n",
    "\n",
    "model = SVC(C=1, kernel='linear', gamma='auto')\n",
    "\n",
    "split = int(len(data) * 0.80)\n",
    "\n",
    "train = data.iloc[:split].copy()\n",
    "\n",
    "model.fit(train[cols], train['direction'])"
   ]
  },
  {
   "cell_type": "code",
   "execution_count": 18,
   "metadata": {},
   "outputs": [
    {
     "data": {
      "text/plain": [
       "0.6427157731692625"
      ]
     },
     "execution_count": 18,
     "metadata": {},
     "output_type": "execute_result"
    }
   ],
   "source": [
    "accuracy_score(train['direction'], model.predict(train[cols]))"
   ]
  },
  {
   "cell_type": "code",
   "execution_count": 22,
   "metadata": {},
   "outputs": [],
   "source": [
    "test = data.iloc[split:].copy()\n",
    "\n",
    "test['position'] = model.predict(test[cols])"
   ]
  },
  {
   "cell_type": "code",
   "execution_count": 23,
   "metadata": {},
   "outputs": [
    {
     "data": {
      "text/plain": [
       "0.6490020646937371"
      ]
     },
     "execution_count": 23,
     "metadata": {},
     "output_type": "execute_result"
    }
   ],
   "source": [
    "accuracy_score(test['direction'], test['position'])"
   ]
  },
  {
   "cell_type": "code",
   "execution_count": 24,
   "metadata": {},
   "outputs": [
    {
     "data": {
      "text/plain": [
       "1021"
      ]
     },
     "execution_count": 24,
     "metadata": {},
     "output_type": "execute_result"
    }
   ],
   "source": [
    "test['strategy'] = test['position'] * test['returns']\n",
    "sum(test['position'].diff() != 0)"
   ]
  },
  {
   "cell_type": "code",
   "execution_count": 25,
   "metadata": {},
   "outputs": [],
   "source": [
    "test['strategy_tc'] = np.where(test['position'].diff() != 0, test['strategy'] - ptc, test['strategy'])"
   ]
  },
  {
   "cell_type": "code",
   "execution_count": 26,
   "metadata": {},
   "outputs": [
    {
     "data": {
      "text/plain": [
       "returns         1.401571\n",
       "strategy       14.745927\n",
       "strategy_tc     0.089454\n",
       "dtype: float64"
      ]
     },
     "execution_count": 26,
     "metadata": {},
     "output_type": "execute_result"
    }
   ],
   "source": [
    "test[['returns', 'strategy', 'strategy_tc']].sum().apply(np.exp)"
   ]
  },
  {
   "cell_type": "code",
   "execution_count": 27,
   "metadata": {},
   "outputs": [
    {
     "data": {
      "text/plain": [
       "<AxesSubplot:xlabel='<DATE>'>"
      ]
     },
     "execution_count": 27,
     "metadata": {},
     "output_type": "execute_result"
    },
    {
     "data": {
      "image/png": "[encoded data removed]",
      "text/plain": [
       "<Figure size 720x432 with 1 Axes>"
      ]
     },
     "metadata": {
      "needs_background": "light"
     },
     "output_type": "display_data"
    }
   ],
   "source": [
    "test[['returns', 'strategy', 'strategy_tc']].cumsum().apply(np.exp).plot(figsize=(10,6))"
   ]
  },
  {
   "cell_type": "code",
   "execution_count": 29,
   "metadata": {},
   "outputs": [],
   "source": [
    "import pandas as pd\n",
    "test.to_csv('backtest_2021-01-10.csv')"
   ]
  },
  {
   "cell_type": "code",
   "execution_count": null,
   "metadata": {},
   "outputs": [],
   "source": []
  }
 ],
 "metadata": {
  "kernelspec": {
   "display_name": "Python 3",
   "language": "python",
   "name": "python3"
  },
  "language_info": {
   "codemirror_mode": {
    "name": "ipython",
    "version": 3
   },
   "file_extension": ".py",
   "mimetype": "text/x-python",
   "name": "python",
   "nbconvert_exporter": "python",
   "pygments_lexer": "ipython3",
   "version": "3.8.5"
  }
 },
 "nbformat": 4,
 "nbformat_minor": 4
}
