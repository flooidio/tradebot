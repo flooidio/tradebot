{
 "cells": [
  {
   "cell_type": "code",
   "execution_count": 88,
   "metadata": {},
   "outputs": [
    {
     "data": {
      "text/plain": [
       "<AxesSubplot:xlabel='Lag', ylabel='Autocorrelation'>"
      ]
     },
     "execution_count": 88,
     "metadata": {},
     "output_type": "execute_result"
    }
   ],
   "source": [
    "# work with saved historic data to minimize the number of api requests\n",
    "\n",
    "import pandas as pd\n",
    "import os\n",
    "\n",
    "symbol = 'btc'\n",
    "\n",
    "#tick_data = pd.read_csv('online_trading_data.csv', index_col=1, infer_datetime_format=True, parse_dates=True)\n",
    "\n",
    "#tick_data = pd.read_csv(symbol+'_hourly.v.txt', index_col=2, infer_datetime_format=True, parse_dates=True)\n",
    "\n",
    "tick_data = pd.read_csv(symbol+'_USD_2021-05-05.csv', index_col=1, infer_datetime_format=True, parse_dates=True)\n",
    "\n",
    "#tick_data.iloc[:, 0] = pd.to_datetime(tick_data.iloc[:, 0], infer_datetime_format=True, unit='s')\n",
    "\n",
    "#tick_data.set_index('time', inplace=True)\n",
    "\n",
    "tick_data.sort_index(inplace=True)\n",
    "\n",
    "# implement re-sampling\n",
    "'''\n",
    "bar lengths are in seconds\n",
    "5 min: 300s, 10 min: 600s, 20 min: 1200s, 40 min: 2400s, 60min: 3600s\n",
    "3 hr: 10800s, 6hr: 21600s, 9hr: 32400s, 12hr: 43200s, 15hr: 54000, 18hr: 64800\n",
    "24 hr: 86400s, 48 hr: 172800s, 72 hr: 259200s, 120 hr: 432000s\n",
    "'''\n",
    "df = pd.DataFrame()\n",
    "bar = '259200s'\n",
    "df = tick_data['<CLOSE>'].resample(bar, label='right').last().ffill()\n",
    "df.head()\n",
    "pd.plotting.autocorrelation_plot(df[-60:])"
   ]
  },
  {
   "cell_type": "code",
   "execution_count": 69,
   "metadata": {},
   "outputs": [
    {
     "data": {
      "text/plain": [
       "Date\n",
       "2021-01-05    31431.61228\n",
       "2021-01-07    36275.75635\n",
       "2021-01-09    40519.44860\n",
       "2021-01-11    38709.76537\n",
       "2021-01-13    34214.61026\n",
       "Freq: 172800S, Name: <CLOSE>, dtype: float64"
      ]
     },
     "execution_count": 69,
     "metadata": {},
     "output_type": "execute_result"
    }
   ],
   "source": [
    "df.head()"
   ]
  },
  {
   "cell_type": "code",
   "execution_count": 70,
   "metadata": {},
   "outputs": [
    {
     "data": {
      "text/html": [
       "<div>\n",
       "<style scoped>\n",
       "    .dataframe tbody tr th:only-of-type {\n",
       "        vertical-align: middle;\n",
       "    }\n",
       "\n",
       "    .dataframe tbody tr th {\n",
       "        vertical-align: top;\n",
       "    }\n",
       "\n",
       "    .dataframe thead th {\n",
       "        text-align: right;\n",
       "    }\n",
       "</style>\n",
       "<table border=\"1\" class=\"dataframe\">\n",
       "  <thead>\n",
       "    <tr style=\"text-align: right;\">\n",
       "      <th></th>\n",
       "      <th>&lt;CLOSE&gt;</th>\n",
       "      <th>SMA</th>\n",
       "    </tr>\n",
       "    <tr>\n",
       "      <th>Date</th>\n",
       "      <th></th>\n",
       "      <th></th>\n",
       "    </tr>\n",
       "  </thead>\n",
       "  <tbody>\n",
       "    <tr>\n",
       "      <th>2021-01-05</th>\n",
       "      <td>31431.61228</td>\n",
       "      <td>NaN</td>\n",
       "    </tr>\n",
       "    <tr>\n",
       "      <th>2021-01-07</th>\n",
       "      <td>36275.75635</td>\n",
       "      <td>NaN</td>\n",
       "    </tr>\n",
       "    <tr>\n",
       "      <th>2021-01-09</th>\n",
       "      <td>40519.44860</td>\n",
       "      <td>NaN</td>\n",
       "    </tr>\n",
       "    <tr>\n",
       "      <th>2021-01-11</th>\n",
       "      <td>38709.76537</td>\n",
       "      <td>NaN</td>\n",
       "    </tr>\n",
       "    <tr>\n",
       "      <th>2021-01-13</th>\n",
       "      <td>34214.61026</td>\n",
       "      <td>NaN</td>\n",
       "    </tr>\n",
       "  </tbody>\n",
       "</table>\n",
       "</div>"
      ],
      "text/plain": [
       "                <CLOSE>  SMA\n",
       "Date                        \n",
       "2021-01-05  31431.61228  NaN\n",
       "2021-01-07  36275.75635  NaN\n",
       "2021-01-09  40519.44860  NaN\n",
       "2021-01-11  38709.76537  NaN\n",
       "2021-01-13  34214.61026  NaN"
      ]
     },
     "execution_count": 70,
     "metadata": {},
     "output_type": "execute_result"
    }
   ],
   "source": [
    "import time\n",
    "import numpy as np\n",
    "import pandas as pd\n",
    "import datetime as dt\n",
    "from pylab import mpl, plt\n",
    "\n",
    "sub = pd.DataFrame(df)\n",
    "\n",
    "# analyze data sub-set\n",
    "\n",
    "i = 3 # Number of ticks to use for simple moving average (SMA)\n",
    "t = str(time.time()) #datetime stamp\n",
    "\n",
    "sub['SMA'] = sub['<CLOSE>'].rolling(i).mean().shift(i)\n",
    "sub.plot(figsize=(10,6), lw=0.75, title='BTC-USD', ylabel='USD/BTC')\n",
    "#plt.savefig('1-BTC-USD_SMA_{}.png'.format(t))\n",
    "#plt.show()\n",
    "sub.head()"
   ]
  },
  {
   "cell_type": "code",
   "execution_count": 97,
   "metadata": {},
   "outputs": [
    {
     "data": {
      "text/html": [
       "<div>\n",
       "<style scoped>\n",
       "    .dataframe tbody tr th:only-of-type {\n",
       "        vertical-align: middle;\n",
       "    }\n",
       "\n",
       "    .dataframe tbody tr th {\n",
       "        vertical-align: top;\n",
       "    }\n",
       "\n",
       "    .dataframe thead th {\n",
       "        text-align: right;\n",
       "    }\n",
       "</style>\n",
       "<table border=\"1\" class=\"dataframe\">\n",
       "  <thead>\n",
       "    <tr style=\"text-align: right;\">\n",
       "      <th></th>\n",
       "      <th>lag_1</th>\n",
       "      <th>lag_2</th>\n",
       "      <th>lag_3</th>\n",
       "      <th>lag_4</th>\n",
       "      <th>lag_5</th>\n",
       "      <th>direction</th>\n",
       "    </tr>\n",
       "    <tr>\n",
       "      <th>Date</th>\n",
       "      <th></th>\n",
       "      <th></th>\n",
       "      <th></th>\n",
       "      <th></th>\n",
       "      <th></th>\n",
       "      <th></th>\n",
       "    </tr>\n",
       "  </thead>\n",
       "  <tbody>\n",
       "    <tr>\n",
       "      <th>2021-01-19</th>\n",
       "      <td>0.0</td>\n",
       "      <td>1.0</td>\n",
       "      <td>0.0</td>\n",
       "      <td>0.0</td>\n",
       "      <td>1.0</td>\n",
       "      <td>1</td>\n",
       "    </tr>\n",
       "    <tr>\n",
       "      <th>2021-01-21</th>\n",
       "      <td>1.0</td>\n",
       "      <td>0.0</td>\n",
       "      <td>1.0</td>\n",
       "      <td>0.0</td>\n",
       "      <td>0.0</td>\n",
       "      <td>-1</td>\n",
       "    </tr>\n",
       "    <tr>\n",
       "      <th>2021-01-23</th>\n",
       "      <td>0.0</td>\n",
       "      <td>1.0</td>\n",
       "      <td>0.0</td>\n",
       "      <td>1.0</td>\n",
       "      <td>0.0</td>\n",
       "      <td>-1</td>\n",
       "    </tr>\n",
       "    <tr>\n",
       "      <th>2021-01-25</th>\n",
       "      <td>0.0</td>\n",
       "      <td>0.0</td>\n",
       "      <td>1.0</td>\n",
       "      <td>0.0</td>\n",
       "      <td>1.0</td>\n",
       "      <td>-1</td>\n",
       "    </tr>\n",
       "    <tr>\n",
       "      <th>2021-01-27</th>\n",
       "      <td>0.0</td>\n",
       "      <td>0.0</td>\n",
       "      <td>0.0</td>\n",
       "      <td>1.0</td>\n",
       "      <td>0.0</td>\n",
       "      <td>1</td>\n",
       "    </tr>\n",
       "  </tbody>\n",
       "</table>\n",
       "</div>"
      ],
      "text/plain": [
       "            lag_1  lag_2  lag_3  lag_4  lag_5  direction\n",
       "Date                                                    \n",
       "2021-01-19    0.0    1.0    0.0    0.0    1.0          1\n",
       "2021-01-21    1.0    0.0    1.0    0.0    0.0         -1\n",
       "2021-01-23    0.0    1.0    0.0    1.0    0.0         -1\n",
       "2021-01-25    0.0    0.0    1.0    0.0    1.0         -1\n",
       "2021-01-27    0.0    0.0    0.0    1.0    0.0          1"
      ]
     },
     "execution_count": 97,
     "metadata": {},
     "output_type": "execute_result"
    }
   ],
   "source": [
    "import pandas as pd\n",
    "import numpy as np\n",
    "\n",
    "# vectorized backtesting\n",
    "\n",
    "ptc = 0.005 # proportional transactional costs - Coinbase Pro charges 0.5% per transaction\n",
    "\n",
    "data = pd.DataFrame()\n",
    "data['close'] = sub['<CLOSE>']\n",
    "data['returns'] = np.log(data['close']/data['close'].shift(1))\n",
    "\n",
    "data.dropna(inplace=True)\n",
    "\n",
    "data = data[-60:]\n",
    "\n",
    "lags = 5\n",
    "\n",
    "cols = []\n",
    "\n",
    "for lag in range(1, lags+1):\n",
    "    col = 'lag_{}'.format(lag)\n",
    "    data[col] = data['returns'].shift(lag)\n",
    "    cols.append(col)\n",
    "\n",
    "data.dropna(inplace=True)\n",
    "\n",
    "data[cols] = np.where(data[cols] >= 0, 1, 0)\n",
    "\n",
    "data['direction'] = np.where(data['returns'] > 0, 1, -1)\n",
    "\n",
    "data[cols + ['direction']].head()"
   ]
  },
  {
   "cell_type": "code",
   "execution_count": 39,
   "metadata": {},
   "outputs": [],
   "source": [
    "data.to_csv('backtest_data.csv')"
   ]
  },
  {
   "cell_type": "code",
   "execution_count": 98,
   "metadata": {},
   "outputs": [],
   "source": [
    "from sklearn.svm import SVC\n",
    "from sklearn.metrics import accuracy_score\n",
    "from datetime import datetime\n",
    "import pickle\n",
    "\n",
    "model = SVC(C=1, kernel='linear', gamma='auto')\n",
    "\n",
    "split = int(len(data) * 0.80)\n",
    "\n",
    "train = data.iloc[:split].copy()\n",
    "\n",
    "model.fit(train[cols], train['direction'])\n",
    "\n",
    "# persisting the model object\n",
    "t = str(time.time()) #datetime stamp\n",
    "pickle.dump(model, open('algorithm-{}.pkl'.format(t), 'wb'))"
   ]
  },
  {
   "cell_type": "code",
   "execution_count": 99,
   "metadata": {},
   "outputs": [
    {
     "data": {
      "text/plain": [
       "0.6363636363636364"
      ]
     },
     "execution_count": 99,
     "metadata": {},
     "output_type": "execute_result"
    }
   ],
   "source": [
    "accuracy_score(train['direction'], model.predict(train[cols]))"
   ]
  },
  {
   "cell_type": "code",
   "execution_count": 100,
   "metadata": {},
   "outputs": [
    {
     "data": {
      "text/html": [
       "<div>\n",
       "<style scoped>\n",
       "    .dataframe tbody tr th:only-of-type {\n",
       "        vertical-align: middle;\n",
       "    }\n",
       "\n",
       "    .dataframe tbody tr th {\n",
       "        vertical-align: top;\n",
       "    }\n",
       "\n",
       "    .dataframe thead th {\n",
       "        text-align: right;\n",
       "    }\n",
       "</style>\n",
       "<table border=\"1\" class=\"dataframe\">\n",
       "  <thead>\n",
       "    <tr style=\"text-align: right;\">\n",
       "      <th></th>\n",
       "      <th>position</th>\n",
       "      <th>direction</th>\n",
       "    </tr>\n",
       "    <tr>\n",
       "      <th>Date</th>\n",
       "      <th></th>\n",
       "      <th></th>\n",
       "    </tr>\n",
       "  </thead>\n",
       "  <tbody>\n",
       "    <tr>\n",
       "      <th>2021-04-29</th>\n",
       "      <td>1</td>\n",
       "      <td>1</td>\n",
       "    </tr>\n",
       "    <tr>\n",
       "      <th>2021-05-01</th>\n",
       "      <td>1</td>\n",
       "      <td>1</td>\n",
       "    </tr>\n",
       "    <tr>\n",
       "      <th>2021-05-03</th>\n",
       "      <td>1</td>\n",
       "      <td>-1</td>\n",
       "    </tr>\n",
       "    <tr>\n",
       "      <th>2021-05-05</th>\n",
       "      <td>-1</td>\n",
       "      <td>-1</td>\n",
       "    </tr>\n",
       "    <tr>\n",
       "      <th>2021-05-07</th>\n",
       "      <td>1</td>\n",
       "      <td>1</td>\n",
       "    </tr>\n",
       "  </tbody>\n",
       "</table>\n",
       "</div>"
      ],
      "text/plain": [
       "            position  direction\n",
       "Date                           \n",
       "2021-04-29         1          1\n",
       "2021-05-01         1          1\n",
       "2021-05-03         1         -1\n",
       "2021-05-05        -1         -1\n",
       "2021-05-07         1          1"
      ]
     },
     "execution_count": 100,
     "metadata": {},
     "output_type": "execute_result"
    }
   ],
   "source": [
    "test = data.iloc[split:].copy()\n",
    "\n",
    "test['position'] = model.predict(test[cols])\n",
    "#test['position'] = test['direction']         # naive prediction\n",
    "\n",
    "test[['position','direction']].tail()"
   ]
  },
  {
   "cell_type": "code",
   "execution_count": 101,
   "metadata": {},
   "outputs": [
    {
     "data": {
      "text/plain": [
       "0.5454545454545454"
      ]
     },
     "execution_count": 101,
     "metadata": {},
     "output_type": "execute_result"
    }
   ],
   "source": [
    "accuracy_score(test['direction'], test['position'])"
   ]
  },
  {
   "cell_type": "code",
   "execution_count": 102,
   "metadata": {},
   "outputs": [
    {
     "data": {
      "text/plain": [
       "5"
      ]
     },
     "execution_count": 102,
     "metadata": {},
     "output_type": "execute_result"
    }
   ],
   "source": [
    "test['strategy'] = test['position'] * test['returns']\n",
    "sum(test['position'].diff() != 0)"
   ]
  },
  {
   "cell_type": "code",
   "execution_count": 103,
   "metadata": {},
   "outputs": [],
   "source": [
    "test['strategy_tc'] = np.where(test['position'].diff() != 0, test['strategy'] - ptc, test['strategy'])"
   ]
  },
  {
   "cell_type": "code",
   "execution_count": 104,
   "metadata": {},
   "outputs": [
    {
     "data": {
      "text/plain": [
       "returns        0.909834\n",
       "strategy       1.195320\n",
       "strategy_tc    1.165808\n",
       "dtype: float64"
      ]
     },
     "execution_count": 104,
     "metadata": {},
     "output_type": "execute_result"
    }
   ],
   "source": [
    "test[['returns', 'strategy', 'strategy_tc']].sum().apply(np.exp)"
   ]
  },
  {
   "cell_type": "code",
   "execution_count": 48,
   "metadata": {},
   "outputs": [],
   "source": [
    "t = str(time.time())\n",
    "test[['returns', 'strategy', 'strategy_tc']].cumsum().apply(np.exp).plot(figsize=(10,6))\n",
    "plt.savefig('1-BTC-USD_StratCompare_{}.png'.format(t))\n",
    "plt.show()"
   ]
  },
  {
   "cell_type": "code",
   "execution_count": 94,
   "metadata": {},
   "outputs": [],
   "source": [
    "import pandas as pd\n",
    "from datetime import datetime\n",
    "t = str(time.time()) #datetime stamp #datetime stamp\n",
    "test.to_csv('backtest_{}.csv'.format(t))"
   ]
  },
  {
   "cell_type": "code",
   "execution_count": null,
   "metadata": {},
   "outputs": [],
   "source": []
  }
 ],
 "metadata": {
  "kernelspec": {
   "display_name": "Python 3",
   "language": "python",
   "name": "python3"
  },
  "language_info": {
   "codemirror_mode": {
    "name": "ipython",
    "version": 3
   },
   "file_extension": ".py",
   "mimetype": "text/x-python",
   "name": "python",
   "nbconvert_exporter": "python",
   "pygments_lexer": "ipython3",
   "version": "3.8.5"
  }
 },
 "nbformat": 4,
 "nbformat_minor": 4
}
