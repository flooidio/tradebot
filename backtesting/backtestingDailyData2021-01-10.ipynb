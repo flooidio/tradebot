{
 "cells": [
  {
   "cell_type": "code",
   "execution_count": 30,
   "metadata": {},
   "outputs": [
    {
     "data": {
      "text/plain": [
       "<bound method NDFrame.head of            <TICKER> <PER>  <TIME>       <OPEN>       <HIGH>        <LOW>  \\\n",
       "<DATE>                                                                     \n",
       "2010-07-17    BTC.V     D       0      0.04951      0.04951      0.04951   \n",
       "2010-07-18    BTC.V     D       0      0.04951      0.08585      0.04951   \n",
       "2010-07-19    BTC.V     D       0      0.08584      0.09307      0.07723   \n",
       "2010-07-20    BTC.V     D       0      0.08080      0.08181      0.07426   \n",
       "2010-07-21    BTC.V     D       0      0.07474      0.07921      0.06634   \n",
       "...             ...   ...     ...          ...          ...          ...   \n",
       "2021-01-05    BTC.V     D       0  31361.18000  34486.79000  29997.68000   \n",
       "2021-01-06    BTC.V     D       0  34304.01000  36477.93000  33417.00000   \n",
       "2021-01-07    BTC.V     D       0  36073.46000  40335.15000  36052.83000   \n",
       "2021-01-08    BTC.V     D       0  39700.86000  41945.44000  36696.09000   \n",
       "2021-01-09    BTC.V     D       0  40729.42000  41394.99000  38798.72000   \n",
       "\n",
       "                <CLOSE>  <VOL>  <OPENINT>  \n",
       "<DATE>                                     \n",
       "2010-07-17      0.04951      0          0  \n",
       "2010-07-18      0.08584      0          0  \n",
       "2010-07-19      0.08080      0          0  \n",
       "2010-07-20      0.07474      0          0  \n",
       "2010-07-21      0.07921      0          0  \n",
       "...                 ...    ...        ...  \n",
       "2021-01-05  34310.41000      0          0  \n",
       "2021-01-06  36058.42000      0          0  \n",
       "2021-01-07  39675.41000      0          0  \n",
       "2021-01-08  40717.17000      0          0  \n",
       "2021-01-09  40436.65000      0          0  \n",
       "\n",
       "[3830 rows x 9 columns]>"
      ]
     },
     "execution_count": 30,
     "metadata": {},
     "output_type": "execute_result"
    }
   ],
   "source": [
    "# work with saved historic data to minimize the number of api requests\n",
    "\n",
    "import pandas as pd\n",
    "import os\n",
    "\n",
    "symbol = 'btc'\n",
    "\n",
    "tick_data = pd.read_csv(symbol+'_daily.v.txt', index_col=2, infer_datetime_format=True, parse_dates=True)\n",
    "\n",
    "#tick_data.iloc[:, 0] = pd.to_datetime(tick_data.iloc[:, 0], infer_datetime_format=True, unit='s')\n",
    "\n",
    "#tick_data.set_index('time', inplace=True)\n",
    "\n",
    "tick_data.sort_index(inplace=True)\n",
    "\n",
    "tick_data.head"
   ]
  },
  {
   "cell_type": "code",
   "execution_count": 31,
   "metadata": {},
   "outputs": [
    {
     "data": {
      "image/png": "[encoded data removed]",
      "text/plain": [
       "<Figure size 720x432 with 1 Axes>"
      ]
     },
     "metadata": {
      "needs_background": "light"
     },
     "output_type": "display_data"
    }
   ],
   "source": [
    "import time\n",
    "import numpy as np\n",
    "import pandas as pd\n",
    "import datetime as dt\n",
    "from pylab import mpl, plt\n",
    "\n",
    "sub = tick_data.copy()\n",
    "\n",
    "# analyze data sub-set\n",
    "\n",
    "i = 20 # Number of ticks to use for simple moving average (SMA)\n",
    "\n",
    "sub['Mid'] = sub.loc[:, ('<OPEN>','<CLOSE>')].mean(axis=1)\n",
    "sub['SMA'] = sub.loc[:, 'Mid'].rolling(i).mean().shift(i)\n",
    "sub[['Mid', 'SMA']].plot(figsize=(10,6), lw=0.75, title='BTC-USD', ylabel='USD/BTC')\n",
    "plt.savefig('1-BTC-USD_SMA.png')\n",
    "plt.show()"
   ]
  },
  {
   "cell_type": "code",
   "execution_count": 32,
   "metadata": {},
   "outputs": [
    {
     "data": {
      "text/html": [
       "<div>\n",
       "<style scoped>\n",
       "    .dataframe tbody tr th:only-of-type {\n",
       "        vertical-align: middle;\n",
       "    }\n",
       "\n",
       "    .dataframe tbody tr th {\n",
       "        vertical-align: top;\n",
       "    }\n",
       "\n",
       "    .dataframe thead th {\n",
       "        text-align: right;\n",
       "    }\n",
       "</style>\n",
       "<table border=\"1\" class=\"dataframe\">\n",
       "  <thead>\n",
       "    <tr style=\"text-align: right;\">\n",
       "      <th></th>\n",
       "      <th>lag_1</th>\n",
       "      <th>lag_2</th>\n",
       "      <th>lag_3</th>\n",
       "      <th>lag_4</th>\n",
       "      <th>lag_5</th>\n",
       "      <th>direction</th>\n",
       "    </tr>\n",
       "    <tr>\n",
       "      <th>&lt;DATE&gt;</th>\n",
       "      <th></th>\n",
       "      <th></th>\n",
       "      <th></th>\n",
       "      <th></th>\n",
       "      <th></th>\n",
       "      <th></th>\n",
       "    </tr>\n",
       "  </thead>\n",
       "  <tbody>\n",
       "    <tr>\n",
       "      <th>2010-07-23</th>\n",
       "      <td>0.0</td>\n",
       "      <td>0.0</td>\n",
       "      <td>0.0</td>\n",
       "      <td>1.0</td>\n",
       "      <td>1.0</td>\n",
       "      <td>-1</td>\n",
       "    </tr>\n",
       "    <tr>\n",
       "      <th>2010-07-24</th>\n",
       "      <td>0.0</td>\n",
       "      <td>0.0</td>\n",
       "      <td>0.0</td>\n",
       "      <td>0.0</td>\n",
       "      <td>1.0</td>\n",
       "      <td>1</td>\n",
       "    </tr>\n",
       "    <tr>\n",
       "      <th>2010-07-25</th>\n",
       "      <td>1.0</td>\n",
       "      <td>0.0</td>\n",
       "      <td>0.0</td>\n",
       "      <td>0.0</td>\n",
       "      <td>0.0</td>\n",
       "      <td>-1</td>\n",
       "    </tr>\n",
       "    <tr>\n",
       "      <th>2010-07-26</th>\n",
       "      <td>0.0</td>\n",
       "      <td>1.0</td>\n",
       "      <td>0.0</td>\n",
       "      <td>0.0</td>\n",
       "      <td>0.0</td>\n",
       "      <td>1</td>\n",
       "    </tr>\n",
       "    <tr>\n",
       "      <th>2010-07-27</th>\n",
       "      <td>1.0</td>\n",
       "      <td>0.0</td>\n",
       "      <td>1.0</td>\n",
       "      <td>0.0</td>\n",
       "      <td>0.0</td>\n",
       "      <td>1</td>\n",
       "    </tr>\n",
       "  </tbody>\n",
       "</table>\n",
       "</div>"
      ],
      "text/plain": [
       "            lag_1  lag_2  lag_3  lag_4  lag_5  direction\n",
       "<DATE>                                                  \n",
       "2010-07-23    0.0    0.0    0.0    1.0    1.0         -1\n",
       "2010-07-24    0.0    0.0    0.0    0.0    1.0          1\n",
       "2010-07-25    1.0    0.0    0.0    0.0    0.0         -1\n",
       "2010-07-26    0.0    1.0    0.0    0.0    0.0          1\n",
       "2010-07-27    1.0    0.0    1.0    0.0    0.0          1"
      ]
     },
     "execution_count": 32,
     "metadata": {},
     "output_type": "execute_result"
    }
   ],
   "source": [
    "import pandas as pd\n",
    "import numpy as np\n",
    "\n",
    "# vectorized backtesting\n",
    "\n",
    "ptc = 0.005 # proportional transactional costs - Coinbase Pro charges 0.5% per transaction\n",
    "\n",
    "data = pd.DataFrame()\n",
    "data['returns'] = np.log(sub['Mid']/sub['Mid'].shift(1))\n",
    "\n",
    "data.dropna(inplace=True)\n",
    "\n",
    "lags = 5\n",
    "\n",
    "cols = []\n",
    "\n",
    "for lag in range(1, lags+1):\n",
    "    col = 'lag_{}'.format(lag)\n",
    "    data[col] = data['returns'].shift(lag)\n",
    "    cols.append(col)\n",
    "\n",
    "data.dropna(inplace=True)\n",
    "\n",
    "data[cols] = np.where(data[cols] > 0, 1, 0)\n",
    "\n",
    "data['direction'] = np.where(data['returns'] > 0, 1, -1)\n",
    "\n",
    "data[cols + ['direction']].head()"
   ]
  },
  {
   "cell_type": "code",
   "execution_count": 33,
   "metadata": {},
   "outputs": [
    {
     "data": {
      "text/plain": [
       "SVC(C=1, gamma='auto', kernel='linear')"
      ]
     },
     "execution_count": 33,
     "metadata": {},
     "output_type": "execute_result"
    }
   ],
   "source": [
    "from sklearn.svm import SVC\n",
    "from sklearn.metrics import accuracy_score\n",
    "\n",
    "model = SVC(C=1, kernel='linear', gamma='auto')\n",
    "\n",
    "split = int(len(data) * 0.80)\n",
    "\n",
    "train = data.iloc[:split].copy()\n",
    "\n",
    "model.fit(train[cols], train['direction'])"
   ]
  },
  {
   "cell_type": "code",
   "execution_count": 34,
   "metadata": {},
   "outputs": [
    {
     "data": {
      "text/plain": [
       "0.6619810395554102"
      ]
     },
     "execution_count": 34,
     "metadata": {},
     "output_type": "execute_result"
    }
   ],
   "source": [
    "accuracy_score(train['direction'], model.predict(train[cols]))"
   ]
  },
  {
   "cell_type": "code",
   "execution_count": 35,
   "metadata": {},
   "outputs": [],
   "source": [
    "test = data.iloc[split:].copy()\n",
    "\n",
    "test['position'] = model.predict(test[cols])"
   ]
  },
  {
   "cell_type": "code",
   "execution_count": 36,
   "metadata": {},
   "outputs": [
    {
     "data": {
      "text/plain": [
       "0.6483660130718955"
      ]
     },
     "execution_count": 36,
     "metadata": {},
     "output_type": "execute_result"
    }
   ],
   "source": [
    "accuracy_score(test['direction'], test['position'])"
   ]
  },
  {
   "cell_type": "code",
   "execution_count": 37,
   "metadata": {},
   "outputs": [
    {
     "data": {
      "text/plain": [
       "270"
      ]
     },
     "execution_count": 37,
     "metadata": {},
     "output_type": "execute_result"
    }
   ],
   "source": [
    "test['strategy'] = test['position'] * test['returns']\n",
    "sum(test['position'].diff() != 0)"
   ]
  },
  {
   "cell_type": "code",
   "execution_count": 38,
   "metadata": {},
   "outputs": [],
   "source": [
    "test['strategy_tc'] = np.where(test['position'].diff() != 0, test['strategy'] - ptc, test['strategy'])"
   ]
  },
  {
   "cell_type": "code",
   "execution_count": 39,
   "metadata": {},
   "outputs": [
    {
     "data": {
      "text/plain": [
       "returns          10.999141\n",
       "strategy       1193.688027\n",
       "strategy_tc     309.451995\n",
       "dtype: float64"
      ]
     },
     "execution_count": 39,
     "metadata": {},
     "output_type": "execute_result"
    }
   ],
   "source": [
    "test[['returns', 'strategy', 'strategy_tc']].sum().apply(np.exp)"
   ]
  },
  {
   "cell_type": "code",
   "execution_count": 40,
   "metadata": {},
   "outputs": [
    {
     "data": {
      "text/plain": [
       "<AxesSubplot:xlabel='<DATE>'>"
      ]
     },
     "execution_count": 40,
     "metadata": {},
     "output_type": "execute_result"
    },
    {
     "data": {
      "image/png": "[encoded data removed]",
      "text/plain": [
       "<Figure size 720x432 with 1 Axes>"
      ]
     },
     "metadata": {
      "needs_background": "light"
     },
     "output_type": "display_data"
    }
   ],
   "source": [
    "test[['returns', 'strategy', 'strategy_tc']].cumsum().apply(np.exp).plot(figsize=(10,6))"
   ]
  },
  {
   "cell_type": "code",
   "execution_count": 41,
   "metadata": {},
   "outputs": [],
   "source": [
    "import pandas as pd\n",
    "test.to_csv('backtest_daily_2021-01-10.csv')"
   ]
  },
  {
   "cell_type": "code",
   "execution_count": 43,
   "metadata": {},
   "outputs": [],
   "source": [
    "import pickle\n",
    "\n",
    "pickle.dump(model, open('algorithm_dailyBTC.pkl', 'wb'))"
   ]
  },
  {
   "cell_type": "code",
   "execution_count": null,
   "metadata": {},
   "outputs": [],
   "source": []
  }
 ],
 "metadata": {
  "kernelspec": {
   "display_name": "Python 3",
   "language": "python",
   "name": "python3"
  },
  "language_info": {
   "codemirror_mode": {
    "name": "ipython",
    "version": 3
   },
   "file_extension": ".py",
   "mimetype": "text/x-python",
   "name": "python",
   "nbconvert_exporter": "python",
   "pygments_lexer": "ipython3",
   "version": "3.8.5"
  }
 },
 "nbformat": 4,
 "nbformat_minor": 4
}
