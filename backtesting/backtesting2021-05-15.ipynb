{
 "cells": [
  {
   "cell_type": "code",
   "execution_count": 1,
   "metadata": {},
   "outputs": [
    {
     "data": {
      "text/plain": [
       "<AxesSubplot:xlabel='Lag', ylabel='Autocorrelation'>"
      ]
     },
     "execution_count": 1,
     "metadata": {},
     "output_type": "execute_result"
    }
   ],
   "source": [
    "# work with saved historic data to minimize the number of api requests\n",
    "\n",
    "import pandas as pd\n",
    "import os\n",
    "\n",
    "symbol = 'btc'\n",
    "\n",
    "#tick_data = pd.read_csv('online_trading_data.csv', index_col=1, infer_datetime_format=True, parse_dates=True)\n",
    "\n",
    "tick_data = pd.read_csv(symbol+'_USD_2021-05-14.csv', index_col=1, infer_datetime_format=True, parse_dates=True)\n",
    "\n",
    "#tick_data.iloc[:, 0] = pd.to_datetime(tick_data.iloc[:, 0], infer_datetime_format=True, unit='s')\n",
    "\n",
    "#tick_data.set_index('time', inplace=True)\n",
    "\n",
    "tick_data.sort_index(inplace=True)\n",
    "\n",
    "# implement re-sampling\n",
    "'''\n",
    "bar lengths are in seconds\n",
    "5 min: 300s, 10 min: 600s, 20 min: 1200s, 40 min: 2400s, 60min: 3600s\n",
    "3 hr: 10800s, 6hr: 21600s, 9hr: 32400s, 12hr: 43200s\n",
    "'''\n",
    "df = tick_data['<CLOSE>']\n",
    "bar = '21600s'\n",
    "df = df.resample(bar, label='right').last().ffill()\n",
    "df.head()\n",
    "pd.plotting.autocorrelation_plot(df[-60:])"
   ]
  },
  {
   "cell_type": "code",
   "execution_count": 2,
   "metadata": {},
   "outputs": [
    {
     "data": {
      "text/html": [
       "<div>\n",
       "<style scoped>\n",
       "    .dataframe tbody tr th:only-of-type {\n",
       "        vertical-align: middle;\n",
       "    }\n",
       "\n",
       "    .dataframe tbody tr th {\n",
       "        vertical-align: top;\n",
       "    }\n",
       "\n",
       "    .dataframe thead th {\n",
       "        text-align: right;\n",
       "    }\n",
       "</style>\n",
       "<table border=\"1\" class=\"dataframe\">\n",
       "  <thead>\n",
       "    <tr style=\"text-align: right;\">\n",
       "      <th></th>\n",
       "      <th>&lt;CLOSE&gt;</th>\n",
       "      <th>SMA</th>\n",
       "    </tr>\n",
       "    <tr>\n",
       "      <th>Date</th>\n",
       "      <th></th>\n",
       "      <th></th>\n",
       "    </tr>\n",
       "  </thead>\n",
       "  <tbody>\n",
       "    <tr>\n",
       "      <th>2020-12-27 06:00:00</th>\n",
       "      <td>26389.290265</td>\n",
       "      <td>NaN</td>\n",
       "    </tr>\n",
       "    <tr>\n",
       "      <th>2020-12-27 12:00:00</th>\n",
       "      <td>26389.290265</td>\n",
       "      <td>NaN</td>\n",
       "    </tr>\n",
       "    <tr>\n",
       "      <th>2020-12-27 18:00:00</th>\n",
       "      <td>26389.290265</td>\n",
       "      <td>NaN</td>\n",
       "    </tr>\n",
       "    <tr>\n",
       "      <th>2020-12-28 00:00:00</th>\n",
       "      <td>26389.290265</td>\n",
       "      <td>26389.290265</td>\n",
       "    </tr>\n",
       "    <tr>\n",
       "      <th>2020-12-28 06:00:00</th>\n",
       "      <td>26718.029463</td>\n",
       "      <td>26389.290265</td>\n",
       "    </tr>\n",
       "  </tbody>\n",
       "</table>\n",
       "</div>"
      ],
      "text/plain": [
       "                          <CLOSE>           SMA\n",
       "Date                                           \n",
       "2020-12-27 06:00:00  26389.290265           NaN\n",
       "2020-12-27 12:00:00  26389.290265           NaN\n",
       "2020-12-27 18:00:00  26389.290265           NaN\n",
       "2020-12-28 00:00:00  26389.290265  26389.290265\n",
       "2020-12-28 06:00:00  26718.029463  26389.290265"
      ]
     },
     "execution_count": 2,
     "metadata": {},
     "output_type": "execute_result"
    }
   ],
   "source": [
    "import time\n",
    "import numpy as np\n",
    "import pandas as pd\n",
    "import datetime as dt\n",
    "from pylab import mpl, plt\n",
    "\n",
    "sub = pd.DataFrame(df)\n",
    "\n",
    "# analyze data sub-set\n",
    "\n",
    "i = 2 # Number of ticks to use for simple moving average (SMA)\n",
    "t = str(time.time()) #datetime stamp\n",
    "\n",
    "sub['SMA'] = sub['<CLOSE>'].rolling(i).mean().shift(i)\n",
    "sub.plot(figsize=(10,6), lw=0.75, title='BTC-USD', ylabel='USD/BTC')\n",
    "#plt.savefig('1-BTC-USD_SMA_{}.png'.format(t))\n",
    "plt.show()\n",
    "sub.head()"
   ]
  },
  {
   "cell_type": "code",
   "execution_count": 3,
   "metadata": {},
   "outputs": [
    {
     "data": {
      "text/html": [
       "<div>\n",
       "<style scoped>\n",
       "    .dataframe tbody tr th:only-of-type {\n",
       "        vertical-align: middle;\n",
       "    }\n",
       "\n",
       "    .dataframe tbody tr th {\n",
       "        vertical-align: top;\n",
       "    }\n",
       "\n",
       "    .dataframe thead th {\n",
       "        text-align: right;\n",
       "    }\n",
       "</style>\n",
       "<table border=\"1\" class=\"dataframe\">\n",
       "  <thead>\n",
       "    <tr style=\"text-align: right;\">\n",
       "      <th></th>\n",
       "      <th>lag_1</th>\n",
       "      <th>lag_2</th>\n",
       "      <th>lag_3</th>\n",
       "      <th>lag_4</th>\n",
       "      <th>lag_5</th>\n",
       "      <th>lag_6</th>\n",
       "      <th>lag_7</th>\n",
       "      <th>lag_8</th>\n",
       "      <th>lag_9</th>\n",
       "      <th>lag_10</th>\n",
       "      <th>lag_11</th>\n",
       "      <th>lag_12</th>\n",
       "      <th>lag_13</th>\n",
       "      <th>direction</th>\n",
       "    </tr>\n",
       "    <tr>\n",
       "      <th>Date</th>\n",
       "      <th></th>\n",
       "      <th></th>\n",
       "      <th></th>\n",
       "      <th></th>\n",
       "      <th></th>\n",
       "      <th></th>\n",
       "      <th></th>\n",
       "      <th></th>\n",
       "      <th></th>\n",
       "      <th></th>\n",
       "      <th></th>\n",
       "      <th></th>\n",
       "      <th></th>\n",
       "      <th></th>\n",
       "    </tr>\n",
       "  </thead>\n",
       "  <tbody>\n",
       "    <tr>\n",
       "      <th>2021-05-02 18:00:00</th>\n",
       "      <td>1.0</td>\n",
       "      <td>0.0</td>\n",
       "      <td>1.0</td>\n",
       "      <td>1.0</td>\n",
       "      <td>1.0</td>\n",
       "      <td>1.0</td>\n",
       "      <td>1.0</td>\n",
       "      <td>1.0</td>\n",
       "      <td>1.0</td>\n",
       "      <td>1.0</td>\n",
       "      <td>1.0</td>\n",
       "      <td>1.0</td>\n",
       "      <td>1.0</td>\n",
       "      <td>-1</td>\n",
       "    </tr>\n",
       "    <tr>\n",
       "      <th>2021-05-03 00:00:00</th>\n",
       "      <td>1.0</td>\n",
       "      <td>1.0</td>\n",
       "      <td>0.0</td>\n",
       "      <td>1.0</td>\n",
       "      <td>1.0</td>\n",
       "      <td>1.0</td>\n",
       "      <td>1.0</td>\n",
       "      <td>1.0</td>\n",
       "      <td>1.0</td>\n",
       "      <td>1.0</td>\n",
       "      <td>1.0</td>\n",
       "      <td>1.0</td>\n",
       "      <td>1.0</td>\n",
       "      <td>-1</td>\n",
       "    </tr>\n",
       "    <tr>\n",
       "      <th>2021-05-03 06:00:00</th>\n",
       "      <td>1.0</td>\n",
       "      <td>1.0</td>\n",
       "      <td>1.0</td>\n",
       "      <td>0.0</td>\n",
       "      <td>1.0</td>\n",
       "      <td>1.0</td>\n",
       "      <td>1.0</td>\n",
       "      <td>1.0</td>\n",
       "      <td>1.0</td>\n",
       "      <td>1.0</td>\n",
       "      <td>1.0</td>\n",
       "      <td>1.0</td>\n",
       "      <td>1.0</td>\n",
       "      <td>1</td>\n",
       "    </tr>\n",
       "    <tr>\n",
       "      <th>2021-05-03 12:00:00</th>\n",
       "      <td>1.0</td>\n",
       "      <td>1.0</td>\n",
       "      <td>1.0</td>\n",
       "      <td>1.0</td>\n",
       "      <td>0.0</td>\n",
       "      <td>1.0</td>\n",
       "      <td>1.0</td>\n",
       "      <td>1.0</td>\n",
       "      <td>1.0</td>\n",
       "      <td>1.0</td>\n",
       "      <td>1.0</td>\n",
       "      <td>1.0</td>\n",
       "      <td>1.0</td>\n",
       "      <td>-1</td>\n",
       "    </tr>\n",
       "    <tr>\n",
       "      <th>2021-05-03 18:00:00</th>\n",
       "      <td>1.0</td>\n",
       "      <td>1.0</td>\n",
       "      <td>1.0</td>\n",
       "      <td>1.0</td>\n",
       "      <td>1.0</td>\n",
       "      <td>0.0</td>\n",
       "      <td>1.0</td>\n",
       "      <td>1.0</td>\n",
       "      <td>1.0</td>\n",
       "      <td>1.0</td>\n",
       "      <td>1.0</td>\n",
       "      <td>1.0</td>\n",
       "      <td>1.0</td>\n",
       "      <td>-1</td>\n",
       "    </tr>\n",
       "  </tbody>\n",
       "</table>\n",
       "</div>"
      ],
      "text/plain": [
       "                     lag_1  lag_2  lag_3  lag_4  lag_5  lag_6  lag_7  lag_8  \\\n",
       "Date                                                                          \n",
       "2021-05-02 18:00:00    1.0    0.0    1.0    1.0    1.0    1.0    1.0    1.0   \n",
       "2021-05-03 00:00:00    1.0    1.0    0.0    1.0    1.0    1.0    1.0    1.0   \n",
       "2021-05-03 06:00:00    1.0    1.0    1.0    0.0    1.0    1.0    1.0    1.0   \n",
       "2021-05-03 12:00:00    1.0    1.0    1.0    1.0    0.0    1.0    1.0    1.0   \n",
       "2021-05-03 18:00:00    1.0    1.0    1.0    1.0    1.0    0.0    1.0    1.0   \n",
       "\n",
       "                     lag_9  lag_10  lag_11  lag_12  lag_13  direction  \n",
       "Date                                                                   \n",
       "2021-05-02 18:00:00    1.0     1.0     1.0     1.0     1.0         -1  \n",
       "2021-05-03 00:00:00    1.0     1.0     1.0     1.0     1.0         -1  \n",
       "2021-05-03 06:00:00    1.0     1.0     1.0     1.0     1.0          1  \n",
       "2021-05-03 12:00:00    1.0     1.0     1.0     1.0     1.0         -1  \n",
       "2021-05-03 18:00:00    1.0     1.0     1.0     1.0     1.0         -1  "
      ]
     },
     "execution_count": 3,
     "metadata": {},
     "output_type": "execute_result"
    }
   ],
   "source": [
    "import pandas as pd\n",
    "import numpy as np\n",
    "\n",
    "# vectorized backtesting\n",
    "\n",
    "ptc = 0.005 # proportional transactional costs - Coinbase Pro charges 0.5% per transaction\n",
    "\n",
    "data = pd.DataFrame()\n",
    "data['close'] = sub['<CLOSE>']\n",
    "data['returns'] = np.log(data['close']/data['close'].shift(1))\n",
    "\n",
    "data.dropna(inplace=True)\n",
    "\n",
    "data = data[-60:]\n",
    "\n",
    "lags = 13\n",
    "\n",
    "cols = []\n",
    "\n",
    "for lag in range(1, lags+1):\n",
    "    col = 'lag_{}'.format(lag)\n",
    "    data[col] = data['returns'].shift(lag)\n",
    "    cols.append(col)\n",
    "\n",
    "data.dropna(inplace=True)\n",
    "\n",
    "data[cols] = np.where(data[cols] >= 0, 1, 0)\n",
    "\n",
    "data['direction'] = np.where(data['returns'] > 0, 1, -1)\n",
    "\n",
    "data[cols + ['direction']].head()"
   ]
  },
  {
   "cell_type": "code",
   "execution_count": 39,
   "metadata": {},
   "outputs": [],
   "source": [
    "data.to_csv('backtest_data.csv')"
   ]
  },
  {
   "cell_type": "code",
   "execution_count": 4,
   "metadata": {},
   "outputs": [],
   "source": [
    "from sklearn.svm import SVC\n",
    "from sklearn.metrics import accuracy_score\n",
    "from datetime import datetime\n",
    "import pickle\n",
    "\n",
    "model = SVC(C=1, kernel='linear', gamma='auto')\n",
    "\n",
    "split = int(len(data) * 0.50)\n",
    "\n",
    "train = data.iloc[:split].copy()\n",
    "\n",
    "model.fit(train[cols], train['direction'])\n",
    "\n",
    "# persisting the model object\n",
    "t = str(time.time()) #datetime stamp\n",
    "pickle.dump(model, open('algorithm-{}.pkl'.format(t), 'wb'))"
   ]
  },
  {
   "cell_type": "code",
   "execution_count": 5,
   "metadata": {},
   "outputs": [
    {
     "data": {
      "text/plain": [
       "0.9565217391304348"
      ]
     },
     "execution_count": 5,
     "metadata": {},
     "output_type": "execute_result"
    }
   ],
   "source": [
    "accuracy_score(train['direction'], model.predict(train[cols]))"
   ]
  },
  {
   "cell_type": "code",
   "execution_count": 6,
   "metadata": {},
   "outputs": [
    {
     "data": {
      "text/html": [
       "<div>\n",
       "<style scoped>\n",
       "    .dataframe tbody tr th:only-of-type {\n",
       "        vertical-align: middle;\n",
       "    }\n",
       "\n",
       "    .dataframe tbody tr th {\n",
       "        vertical-align: top;\n",
       "    }\n",
       "\n",
       "    .dataframe thead th {\n",
       "        text-align: right;\n",
       "    }\n",
       "</style>\n",
       "<table border=\"1\" class=\"dataframe\">\n",
       "  <thead>\n",
       "    <tr style=\"text-align: right;\">\n",
       "      <th></th>\n",
       "      <th>position</th>\n",
       "      <th>direction</th>\n",
       "    </tr>\n",
       "    <tr>\n",
       "      <th>Date</th>\n",
       "      <th></th>\n",
       "      <th></th>\n",
       "    </tr>\n",
       "  </thead>\n",
       "  <tbody>\n",
       "    <tr>\n",
       "      <th>2021-05-13 06:00:00</th>\n",
       "      <td>1</td>\n",
       "      <td>-1</td>\n",
       "    </tr>\n",
       "    <tr>\n",
       "      <th>2021-05-13 12:00:00</th>\n",
       "      <td>-1</td>\n",
       "      <td>-1</td>\n",
       "    </tr>\n",
       "    <tr>\n",
       "      <th>2021-05-13 18:00:00</th>\n",
       "      <td>-1</td>\n",
       "      <td>-1</td>\n",
       "    </tr>\n",
       "    <tr>\n",
       "      <th>2021-05-14 00:00:00</th>\n",
       "      <td>-1</td>\n",
       "      <td>-1</td>\n",
       "    </tr>\n",
       "    <tr>\n",
       "      <th>2021-05-14 06:00:00</th>\n",
       "      <td>1</td>\n",
       "      <td>1</td>\n",
       "    </tr>\n",
       "  </tbody>\n",
       "</table>\n",
       "</div>"
      ],
      "text/plain": [
       "                     position  direction\n",
       "Date                                    \n",
       "2021-05-13 06:00:00         1         -1\n",
       "2021-05-13 12:00:00        -1         -1\n",
       "2021-05-13 18:00:00        -1         -1\n",
       "2021-05-14 00:00:00        -1         -1\n",
       "2021-05-14 06:00:00         1          1"
      ]
     },
     "execution_count": 6,
     "metadata": {},
     "output_type": "execute_result"
    }
   ],
   "source": [
    "test = data.iloc[split:].copy()\n",
    "\n",
    "test['position'] = model.predict(test[cols])\n",
    "#test['position'] = test['direction']         # naive prediction\n",
    "\n",
    "test[['position','direction']].tail()"
   ]
  },
  {
   "cell_type": "code",
   "execution_count": 7,
   "metadata": {},
   "outputs": [
    {
     "data": {
      "text/plain": [
       "0.9166666666666666"
      ]
     },
     "execution_count": 7,
     "metadata": {},
     "output_type": "execute_result"
    }
   ],
   "source": [
    "accuracy_score(test['direction'], test['position'])"
   ]
  },
  {
   "cell_type": "code",
   "execution_count": 8,
   "metadata": {},
   "outputs": [
    {
     "data": {
      "text/plain": [
       "8"
      ]
     },
     "execution_count": 8,
     "metadata": {},
     "output_type": "execute_result"
    }
   ],
   "source": [
    "test['strategy'] = test['position'] * test['returns']\n",
    "sum(test['position'].diff() != 0)"
   ]
  },
  {
   "cell_type": "code",
   "execution_count": 9,
   "metadata": {},
   "outputs": [],
   "source": [
    "test['strategy_tc'] = np.where(test['position'].diff() != 0, test['strategy'] - ptc, test['strategy'])"
   ]
  },
  {
   "cell_type": "code",
   "execution_count": 10,
   "metadata": {},
   "outputs": [
    {
     "data": {
      "text/plain": [
       "returns        0.851067\n",
       "strategy       1.025448\n",
       "strategy_tc    0.985240\n",
       "dtype: float64"
      ]
     },
     "execution_count": 10,
     "metadata": {},
     "output_type": "execute_result"
    }
   ],
   "source": [
    "test[['returns', 'strategy', 'strategy_tc']].sum().apply(np.exp)"
   ]
  },
  {
   "cell_type": "code",
   "execution_count": 62,
   "metadata": {},
   "outputs": [],
   "source": [
    "t = str(time.time())\n",
    "test[['returns', 'strategy', 'strategy_tc']].cumsum().apply(np.exp).plot(figsize=(10,6))\n",
    "plt.savefig('1-BTC-USD_StratCompare_{}.png'.format(t))\n",
    "plt.show()"
   ]
  },
  {
   "cell_type": "code",
   "execution_count": 20,
   "metadata": {},
   "outputs": [],
   "source": [
    "import pandas as pd\n",
    "from datetime import datetime\n",
    "t = str(time.time()) #datetime stamp #datetime stamp\n",
    "test.to_csv('backtest_{}.csv'.format(t))"
   ]
  },
  {
   "cell_type": "code",
   "execution_count": null,
   "metadata": {},
   "outputs": [],
   "source": []
  }
 ],
 "metadata": {
  "kernelspec": {
   "display_name": "Python 3",
   "language": "python",
   "name": "python3"
  },
  "language_info": {
   "codemirror_mode": {
    "name": "ipython",
    "version": 3
   },
   "file_extension": ".py",
   "mimetype": "text/x-python",
   "name": "python",
   "nbconvert_exporter": "python",
   "pygments_lexer": "ipython3",
   "version": "3.8.5"
  }
 },
 "nbformat": 4,
 "nbformat_minor": 4
}
