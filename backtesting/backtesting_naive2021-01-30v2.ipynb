{
 "cells": [
  {
   "cell_type": "code",
   "execution_count": 1,
   "metadata": {},
   "outputs": [
    {
     "data": {
      "text/plain": [
       "<bound method NDFrame.head of                           date       Mid   Returns  Direction\n",
       "time                                                         \n",
       "2021-01-31 04:00:00  1/29/2021  33674.95       NaN         -1\n",
       "2021-01-31 04:20:00  1/29/2021  33415.55 -0.012241         -1\n",
       "2021-01-31 04:40:00  1/29/2021  33053.60 -0.004268         -1\n",
       "2021-01-31 05:00:00  1/29/2021  33016.22  0.003980          1\n",
       "2021-01-31 05:20:00  1/29/2021  33060.23 -0.001761         -1\n",
       "2021-01-31 05:40:00  1/29/2021  32952.07 -0.004236         -1\n",
       "2021-01-31 06:00:00  1/29/2021  33070.80  0.000592          1\n",
       "2021-01-31 06:20:00  1/29/2021  32766.30 -0.008706         -1\n",
       "2021-01-31 06:40:00  1/29/2021  32900.04  0.005081          1\n",
       "2021-01-31 07:00:00  1/29/2021  32484.04 -0.005684         -1\n",
       "2021-01-31 07:20:00  1/29/2021  32576.91  0.000855          1\n",
       "2021-01-31 07:40:00  1/29/2021  32226.52 -0.002359         -1\n",
       "2021-01-31 08:00:00  1/29/2021  32278.46  0.002792          1\n",
       "2021-01-31 08:20:00  1/29/2021  32621.67  0.009206          1\n",
       "2021-01-31 08:40:00  1/29/2021  32080.73 -0.005453         -1\n",
       "2021-01-31 09:00:00  1/29/2021  34571.77  0.052024          1\n",
       "2021-01-31 09:20:00  1/29/2021  35661.24 -0.018968         -1\n",
       "2021-01-31 09:40:00  1/29/2021  37621.90  0.037055          1\n",
       "2021-01-31 10:00:00  1/29/2021  37091.15 -0.011829         -1\n",
       "2021-01-31 10:20:00  1/29/2021  36282.75 -0.019100         -1\n",
       "2021-01-31 10:40:00  1/29/2021  35650.17 -0.016403         -1\n",
       "2021-01-31 11:00:00  1/29/2021  36515.84 -0.004509         -1\n",
       "2021-01-31 11:20:00  1/29/2021  36996.12  0.008112          1\n",
       "2021-01-31 11:40:00  1/29/2021  37045.94  0.010394          1\n",
       "2021-01-31 12:00:00  1/29/2021  37041.13 -0.006026         -1\n",
       "2021-01-31 12:20:00  1/29/2021  36966.12 -0.004031         -1\n",
       "2021-01-31 12:40:00  1/29/2021  37204.45  0.013105          1\n",
       "2021-01-31 13:00:00  1/29/2021  37501.88  0.001960          1\n",
       "2021-01-31 13:20:00  1/29/2021  37374.77 -0.015730         -1\n",
       "2021-01-31 13:40:00  1/29/2021  37457.74  0.003447          1\n",
       "2021-01-31 14:00:00  1/29/2021  38000.00  0.007035          1\n",
       "2021-01-31 14:20:00  1/29/2021  37927.36 -0.011496         -1\n",
       "2021-01-31 14:40:00  1/29/2021  38168.05  0.006578          1\n",
       "2021-01-31 15:00:00  1/29/2021  37346.28 -0.000058         -1>"
      ]
     },
     "execution_count": 1,
     "metadata": {},
     "output_type": "execute_result"
    }
   ],
   "source": [
    "# work with saved historic data to minimize the number of api requests\n",
    "\n",
    "import pandas as pd\n",
    "import os\n",
    "\n",
    "symbol = 'btc'\n",
    "\n",
    "tick_data = pd.read_csv('online_trading_data.csv', index_col=1, infer_datetime_format=True, parse_dates=True)\n",
    "\n",
    "#tick_data = pd.read_csv(symbol+'_5min20210128.v.txt', index_col=2, infer_datetime_format=True, parse_dates=True)\n",
    "\n",
    "#tick_data.iloc[:, 0] = pd.to_datetime(tick_data.iloc[:, 0], infer_datetime_format=True, unit='s')\n",
    "\n",
    "#tick_data.set_index('time', inplace=True)\n",
    "\n",
    "tick_data.sort_index(inplace=True)\n",
    "\n",
    "# implement re-sampling\n",
    "'''\n",
    "bar lengths are in seconds\n",
    "5 min: 300s, 10 min: 600s, 20 min: 1200s, 40 min: 2400s, 60min: 3600s\n",
    "3 hr: 10800s, 6hr: 21600s, 9hr: 32400s, 12hr: 43200s\n",
    "'''\n",
    "df = pd.DataFrame()\n",
    "bar = '1200s'\n",
    "df = tick_data.resample(bar, label='right').last().ffill()\n",
    "\n",
    "df.head"
   ]
  },
  {
   "cell_type": "code",
   "execution_count": 9,
   "metadata": {},
   "outputs": [],
   "source": [
    "import time\n",
    "import numpy as np\n",
    "import pandas as pd\n",
    "import datetime as dt\n",
    "from pylab import mpl, plt\n",
    "\n",
    "sub = df.copy()\n",
    "\n",
    "# analyze data sub-set\n",
    "\n",
    "i = 2 # Number of ticks to use for simple moving average (SMA)\n",
    "t = str(time.time()) #datetime stamp\n",
    "\n",
    "sub['SMA'] = sub.loc[:, 'Mid'].rolling(i).mean().shift(i)\n",
    "sub[['Mid', 'SMA']].plot(figsize=(10,6), lw=0.75, title='BTC-USD', ylabel='USD/BTC')\n",
    "#plt.savefig('1-BTC-USD_SMA_{}.png'.format(t))\n",
    "plt.show()"
   ]
  },
  {
   "cell_type": "code",
   "execution_count": 10,
   "metadata": {},
   "outputs": [
    {
     "data": {
      "text/html": [
       "<div>\n",
       "<style scoped>\n",
       "    .dataframe tbody tr th:only-of-type {\n",
       "        vertical-align: middle;\n",
       "    }\n",
       "\n",
       "    .dataframe tbody tr th {\n",
       "        vertical-align: top;\n",
       "    }\n",
       "\n",
       "    .dataframe thead th {\n",
       "        text-align: right;\n",
       "    }\n",
       "</style>\n",
       "<table border=\"1\" class=\"dataframe\">\n",
       "  <thead>\n",
       "    <tr style=\"text-align: right;\">\n",
       "      <th></th>\n",
       "      <th>lag_1</th>\n",
       "      <th>lag_2</th>\n",
       "      <th>lag_3</th>\n",
       "      <th>direction</th>\n",
       "    </tr>\n",
       "    <tr>\n",
       "      <th>time</th>\n",
       "      <th></th>\n",
       "      <th></th>\n",
       "      <th></th>\n",
       "      <th></th>\n",
       "    </tr>\n",
       "  </thead>\n",
       "  <tbody>\n",
       "    <tr>\n",
       "      <th>2021-01-30 05:20:00</th>\n",
       "      <td>0.0</td>\n",
       "      <td>0.0</td>\n",
       "      <td>0.0</td>\n",
       "      <td>1</td>\n",
       "    </tr>\n",
       "    <tr>\n",
       "      <th>2021-01-30 05:40:00</th>\n",
       "      <td>1.0</td>\n",
       "      <td>0.0</td>\n",
       "      <td>0.0</td>\n",
       "      <td>-1</td>\n",
       "    </tr>\n",
       "    <tr>\n",
       "      <th>2021-01-30 06:00:00</th>\n",
       "      <td>0.0</td>\n",
       "      <td>1.0</td>\n",
       "      <td>0.0</td>\n",
       "      <td>1</td>\n",
       "    </tr>\n",
       "    <tr>\n",
       "      <th>2021-01-30 06:20:00</th>\n",
       "      <td>1.0</td>\n",
       "      <td>0.0</td>\n",
       "      <td>1.0</td>\n",
       "      <td>-1</td>\n",
       "    </tr>\n",
       "    <tr>\n",
       "      <th>2021-01-30 06:40:00</th>\n",
       "      <td>0.0</td>\n",
       "      <td>1.0</td>\n",
       "      <td>0.0</td>\n",
       "      <td>1</td>\n",
       "    </tr>\n",
       "  </tbody>\n",
       "</table>\n",
       "</div>"
      ],
      "text/plain": [
       "                     lag_1  lag_2  lag_3  direction\n",
       "time                                               \n",
       "2021-01-30 05:20:00    0.0    0.0    0.0          1\n",
       "2021-01-30 05:40:00    1.0    0.0    0.0         -1\n",
       "2021-01-30 06:00:00    0.0    1.0    0.0          1\n",
       "2021-01-30 06:20:00    1.0    0.0    1.0         -1\n",
       "2021-01-30 06:40:00    0.0    1.0    0.0          1"
      ]
     },
     "execution_count": 10,
     "metadata": {},
     "output_type": "execute_result"
    }
   ],
   "source": [
    "import pandas as pd\n",
    "import numpy as np\n",
    "\n",
    "# vectorized backtesting\n",
    "\n",
    "ptc = 0.005 # proportional transactional costs - Coinbase Pro charges 0.5% per transaction\n",
    "\n",
    "data = pd.DataFrame()\n",
    "data['Mid'] = sub['Mid']\n",
    "data['returns'] = np.log(data['Mid']/data['Mid'].shift(1))\n",
    "\n",
    "data.dropna(inplace=True)\n",
    "\n",
    "lags = 3\n",
    "\n",
    "cols = []\n",
    "\n",
    "for lag in range(1, lags+1):\n",
    "    col = 'lag_{}'.format(lag)\n",
    "    data[col] = data['returns'].shift(lag)\n",
    "    cols.append(col)\n",
    "\n",
    "data.dropna(inplace=True)\n",
    "\n",
    "data[cols] = np.where(data[cols] >= 0, 1, 0)\n",
    "\n",
    "data['direction'] = np.where(data['returns'] > 0, 1, -1)\n",
    "\n",
    "data[cols + ['direction']].head()"
   ]
  },
  {
   "cell_type": "code",
   "execution_count": 39,
   "metadata": {},
   "outputs": [],
   "source": [
    "data.to_csv('backtest_data.csv')"
   ]
  },
  {
   "cell_type": "code",
   "execution_count": 11,
   "metadata": {},
   "outputs": [],
   "source": [
    "from sklearn.svm import SVC\n",
    "from sklearn.metrics import accuracy_score\n",
    "from datetime import datetime\n",
    "import pickle\n",
    "\n",
    "model = SVC(C=1, kernel='linear', gamma='auto')\n",
    "\n",
    "split = int(len(data) * 0.80)\n",
    "\n",
    "train = data.iloc[:split].copy()\n",
    "\n",
    "model.fit(train[cols], train['direction'])\n",
    "\n",
    "# persisting the model object\n",
    "t = str(time.time()) #datetime stamp\n",
    "pickle.dump(model, open('algorithm-{}.pkl'.format(t), 'wb'))"
   ]
  },
  {
   "cell_type": "code",
   "execution_count": 12,
   "metadata": {},
   "outputs": [
    {
     "data": {
      "text/plain": [
       "0.75"
      ]
     },
     "execution_count": 12,
     "metadata": {},
     "output_type": "execute_result"
    }
   ],
   "source": [
    "accuracy_score(train['direction'], model.predict(train[cols]))"
   ]
  },
  {
   "cell_type": "code",
   "execution_count": 13,
   "metadata": {},
   "outputs": [
    {
     "data": {
      "text/html": [
       "<div>\n",
       "<style scoped>\n",
       "    .dataframe tbody tr th:only-of-type {\n",
       "        vertical-align: middle;\n",
       "    }\n",
       "\n",
       "    .dataframe tbody tr th {\n",
       "        vertical-align: top;\n",
       "    }\n",
       "\n",
       "    .dataframe thead th {\n",
       "        text-align: right;\n",
       "    }\n",
       "</style>\n",
       "<table border=\"1\" class=\"dataframe\">\n",
       "  <thead>\n",
       "    <tr style=\"text-align: right;\">\n",
       "      <th></th>\n",
       "      <th>position</th>\n",
       "      <th>direction</th>\n",
       "    </tr>\n",
       "    <tr>\n",
       "      <th>time</th>\n",
       "      <th></th>\n",
       "      <th></th>\n",
       "    </tr>\n",
       "  </thead>\n",
       "  <tbody>\n",
       "    <tr>\n",
       "      <th>2021-01-30 13:40:00</th>\n",
       "      <td>1</td>\n",
       "      <td>1</td>\n",
       "    </tr>\n",
       "    <tr>\n",
       "      <th>2021-01-30 14:00:00</th>\n",
       "      <td>1</td>\n",
       "      <td>1</td>\n",
       "    </tr>\n",
       "    <tr>\n",
       "      <th>2021-01-30 14:20:00</th>\n",
       "      <td>-1</td>\n",
       "      <td>-1</td>\n",
       "    </tr>\n",
       "    <tr>\n",
       "      <th>2021-01-30 14:40:00</th>\n",
       "      <td>1</td>\n",
       "      <td>1</td>\n",
       "    </tr>\n",
       "    <tr>\n",
       "      <th>2021-01-30 15:00:00</th>\n",
       "      <td>-1</td>\n",
       "      <td>-1</td>\n",
       "    </tr>\n",
       "  </tbody>\n",
       "</table>\n",
       "</div>"
      ],
      "text/plain": [
       "                     position  direction\n",
       "time                                    \n",
       "2021-01-30 13:40:00         1          1\n",
       "2021-01-30 14:00:00         1          1\n",
       "2021-01-30 14:20:00        -1         -1\n",
       "2021-01-30 14:40:00         1          1\n",
       "2021-01-30 15:00:00        -1         -1"
      ]
     },
     "execution_count": 13,
     "metadata": {},
     "output_type": "execute_result"
    }
   ],
   "source": [
    "test = data.iloc[split:].copy()\n",
    "\n",
    "#test['position'] = model.predict(test[cols])\n",
    "test['position'] = test['direction']         # naive prediction\n",
    "\n",
    "test[['position','direction']].tail()"
   ]
  },
  {
   "cell_type": "code",
   "execution_count": 14,
   "metadata": {},
   "outputs": [
    {
     "data": {
      "text/plain": [
       "1.0"
      ]
     },
     "execution_count": 14,
     "metadata": {},
     "output_type": "execute_result"
    }
   ],
   "source": [
    "accuracy_score(test['direction'], test['position'])"
   ]
  },
  {
   "cell_type": "code",
   "execution_count": 15,
   "metadata": {},
   "outputs": [
    {
     "data": {
      "text/plain": [
       "5"
      ]
     },
     "execution_count": 15,
     "metadata": {},
     "output_type": "execute_result"
    }
   ],
   "source": [
    "test['strategy'] = test['position'] * test['returns']\n",
    "sum(test['position'].diff() != 0)"
   ]
  },
  {
   "cell_type": "code",
   "execution_count": 16,
   "metadata": {},
   "outputs": [],
   "source": [
    "test['strategy_tc'] = np.where(test['position'].diff() != 0, test['strategy'] - ptc, test['strategy'])"
   ]
  },
  {
   "cell_type": "code",
   "execution_count": 17,
   "metadata": {},
   "outputs": [
    {
     "data": {
      "text/plain": [
       "returns        0.995851\n",
       "strategy       1.051261\n",
       "strategy_tc    1.025305\n",
       "dtype: float64"
      ]
     },
     "execution_count": 17,
     "metadata": {},
     "output_type": "execute_result"
    }
   ],
   "source": [
    "test[['returns', 'strategy', 'strategy_tc']].sum().apply(np.exp)"
   ]
  },
  {
   "cell_type": "code",
   "execution_count": 18,
   "metadata": {},
   "outputs": [],
   "source": [
    "t = str(time.time())\n",
    "test[['returns', 'strategy', 'strategy_tc']].cumsum().apply(np.exp).plot(figsize=(10,6))\n",
    "plt.savefig('1-BTC-USD_StratCompare_{}.png'.format(t))\n",
    "plt.show()"
   ]
  },
  {
   "cell_type": "code",
   "execution_count": 19,
   "metadata": {},
   "outputs": [],
   "source": [
    "import pandas as pd\n",
    "from datetime import datetime\n",
    "t = str(time.time()) #datetime stamp #datetime stamp\n",
    "test.to_csv('backtest_{}.csv'.format(t))"
   ]
  },
  {
   "cell_type": "code",
   "execution_count": null,
   "metadata": {},
   "outputs": [],
   "source": []
  }
 ],
 "metadata": {
  "kernelspec": {
   "display_name": "Python 3",
   "language": "python",
   "name": "python3"
  },
  "language_info": {
   "codemirror_mode": {
    "name": "ipython",
    "version": 3
   },
   "file_extension": ".py",
   "mimetype": "text/x-python",
   "name": "python",
   "nbconvert_exporter": "python",
   "pygments_lexer": "ipython3",
   "version": "3.8.5"
  }
 },
 "nbformat": 4,
 "nbformat_minor": 4
}
