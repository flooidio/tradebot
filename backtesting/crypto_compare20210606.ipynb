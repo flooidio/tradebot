{
 "cells": [
  {
   "cell_type": "code",
   "execution_count": 106,
   "metadata": {},
   "outputs": [],
   "source": [
    "import pandas as pd\n",
    "import matplotlib.pyplot as plt\n",
    "\n",
    "def plot_selected(df, columns, start_index, end_index):\n",
    "    plot_data(df.loc[start_index:end_index,  columns], title='Prices Normalized')\n",
    "    \n",
    "def normalize_data(df, start_index):\n",
    "    return df/df.iloc[start_index,:]\n",
    "\n",
    "def plot_data(df, title='Crypto Prices'):\n",
    "    ax = df.plot(title=title, fontsize=2)\n",
    "    ax.set_xlabel('Date')\n",
    "    ax.set_ylabel('Price')\n",
    "    plt.show()\n",
    "    \n",
    "       \n",
    "btc_df = pd.read_csv('btc.v.txt', index_col='<DATE>', parse_dates=True, infer_datetime_format=True)\n",
    "eth_df = pd.read_csv('eth.v.txt', index_col='<DATE>', parse_dates=True, infer_datetime_format=True)\n",
    "matic_df = pd.read_csv('matic.v.txt', index_col='<DATE>', parse_dates=True, infer_datetime_format=True)\n",
    "xtz_df = pd.read_csv('xtz.v.txt', index_col='<DATE>', parse_dates=True, infer_datetime_format=True)\n",
    "\n",
    "# align to BTC index\n",
    "eth_df = eth_df.reindex_like(btc_df, method='nearest')\n",
    "matic_df = matic_df.reindex_like(btc_df, method='nearest')\n",
    "xtz_df = xtz_df.reindex_like(btc_df, method='nearest')\n",
    "\n",
    "'''\n",
    "# fill in missing values\n",
    "eth_df.fillna(method='ffill', inplace=True)\n",
    "eth_df.fillna(method='bfill', inplace=True)\n",
    "\n",
    "matic_df.fillna(method='ffill', inplace=True)\n",
    "matic_df.fillna(method='bfill', inplace=True)\n",
    "\n",
    "xtz_df.fillna(method='ffill', inplace=True)\n",
    "xtz_df.fillna(method='bfill', inplace=True)\n",
    "'''\n",
    "\n",
    "# combine price series into one dataframe\n",
    "crypto_df = btc_df[['<CLOSE>']]\n",
    "crypto_df = crypto_df.rename(columns={'<CLOSE>':'BTC'})\n",
    "crypto_df.reindex_like(btc_df)\n",
    "\n",
    "crypto_df['ETH'] = eth_df['<CLOSE>']\n",
    "crypto_df['MATIC'] = matic_df['<CLOSE>']\n",
    "crypto_df['XTZ'] = xtz_df['<CLOSE>']\n",
    "\n",
    "crypto_df.to_csv('crypto_data20210606.csv')\n",
    "\n",
    "# normalize price series for comparison\n",
    "crypto_norm_df = normalize_data(crypto_df, 0)\n",
    "    \n",
    "plot_data(crypto_norm_df)\n"
   ]
  },
  {
   "cell_type": "code",
   "execution_count": 74,
   "metadata": {},
   "outputs": [
    {
     "data": {
      "text/html": [
       "<div>\n",
       "<style scoped>\n",
       "    .dataframe tbody tr th:only-of-type {\n",
       "        vertical-align: middle;\n",
       "    }\n",
       "\n",
       "    .dataframe tbody tr th {\n",
       "        vertical-align: top;\n",
       "    }\n",
       "\n",
       "    .dataframe thead th {\n",
       "        text-align: right;\n",
       "    }\n",
       "</style>\n",
       "<table border=\"1\" class=\"dataframe\">\n",
       "  <thead>\n",
       "    <tr style=\"text-align: right;\">\n",
       "      <th></th>\n",
       "      <th>BTC</th>\n",
       "      <th>ETH</th>\n",
       "      <th>MATIC</th>\n",
       "      <th>XTZ</th>\n",
       "    </tr>\n",
       "    <tr>\n",
       "      <th>&lt;DATE&gt;</th>\n",
       "      <th></th>\n",
       "      <th></th>\n",
       "      <th></th>\n",
       "      <th></th>\n",
       "    </tr>\n",
       "  </thead>\n",
       "  <tbody>\n",
       "    <tr>\n",
       "      <th>2010-07-17</th>\n",
       "      <td>0.04951</td>\n",
       "      <td>3.0</td>\n",
       "      <td>0.004441</td>\n",
       "      <td>2.0</td>\n",
       "    </tr>\n",
       "    <tr>\n",
       "      <th>2010-07-18</th>\n",
       "      <td>0.08584</td>\n",
       "      <td>3.0</td>\n",
       "      <td>0.004441</td>\n",
       "      <td>2.0</td>\n",
       "    </tr>\n",
       "    <tr>\n",
       "      <th>2010-07-19</th>\n",
       "      <td>0.08080</td>\n",
       "      <td>3.0</td>\n",
       "      <td>0.004441</td>\n",
       "      <td>2.0</td>\n",
       "    </tr>\n",
       "    <tr>\n",
       "      <th>2010-07-20</th>\n",
       "      <td>0.07474</td>\n",
       "      <td>3.0</td>\n",
       "      <td>0.004441</td>\n",
       "      <td>2.0</td>\n",
       "    </tr>\n",
       "    <tr>\n",
       "      <th>2010-07-21</th>\n",
       "      <td>0.07921</td>\n",
       "      <td>3.0</td>\n",
       "      <td>0.004441</td>\n",
       "      <td>2.0</td>\n",
       "    </tr>\n",
       "  </tbody>\n",
       "</table>\n",
       "</div>"
      ],
      "text/plain": [
       "                BTC  ETH     MATIC  XTZ\n",
       "<DATE>                                 \n",
       "2010-07-17  0.04951  3.0  0.004441  2.0\n",
       "2010-07-18  0.08584  3.0  0.004441  2.0\n",
       "2010-07-19  0.08080  3.0  0.004441  2.0\n",
       "2010-07-20  0.07474  3.0  0.004441  2.0\n",
       "2010-07-21  0.07921  3.0  0.004441  2.0"
      ]
     },
     "execution_count": 74,
     "metadata": {},
     "output_type": "execute_result"
    }
   ],
   "source": [
    "crypto_df.head()"
   ]
  },
  {
   "cell_type": "code",
   "execution_count": 75,
   "metadata": {},
   "outputs": [
    {
     "data": {
      "text/html": [
       "<div>\n",
       "<style scoped>\n",
       "    .dataframe tbody tr th:only-of-type {\n",
       "        vertical-align: middle;\n",
       "    }\n",
       "\n",
       "    .dataframe tbody tr th {\n",
       "        vertical-align: top;\n",
       "    }\n",
       "\n",
       "    .dataframe thead th {\n",
       "        text-align: right;\n",
       "    }\n",
       "</style>\n",
       "<table border=\"1\" class=\"dataframe\">\n",
       "  <thead>\n",
       "    <tr style=\"text-align: right;\">\n",
       "      <th></th>\n",
       "      <th>BTC</th>\n",
       "      <th>ETH</th>\n",
       "      <th>MATIC</th>\n",
       "      <th>XTZ</th>\n",
       "    </tr>\n",
       "    <tr>\n",
       "      <th>&lt;DATE&gt;</th>\n",
       "      <th></th>\n",
       "      <th></th>\n",
       "      <th></th>\n",
       "      <th></th>\n",
       "    </tr>\n",
       "  </thead>\n",
       "  <tbody>\n",
       "    <tr>\n",
       "      <th>2021-06-01</th>\n",
       "      <td>36389.27</td>\n",
       "      <td>2594.63</td>\n",
       "      <td>1.811</td>\n",
       "      <td>3.641</td>\n",
       "    </tr>\n",
       "    <tr>\n",
       "      <th>2021-06-02</th>\n",
       "      <td>37809.74</td>\n",
       "      <td>2721.36</td>\n",
       "      <td>1.813</td>\n",
       "      <td>3.844</td>\n",
       "    </tr>\n",
       "    <tr>\n",
       "      <th>2021-06-03</th>\n",
       "      <td>38779.50</td>\n",
       "      <td>2819.25</td>\n",
       "      <td>1.802</td>\n",
       "      <td>3.838</td>\n",
       "    </tr>\n",
       "    <tr>\n",
       "      <th>2021-06-04</th>\n",
       "      <td>37220.06</td>\n",
       "      <td>2732.50</td>\n",
       "      <td>1.675</td>\n",
       "      <td>3.617</td>\n",
       "    </tr>\n",
       "    <tr>\n",
       "      <th>2021-06-05</th>\n",
       "      <td>34946.84</td>\n",
       "      <td>2560.40</td>\n",
       "      <td>1.474</td>\n",
       "      <td>3.301</td>\n",
       "    </tr>\n",
       "  </tbody>\n",
       "</table>\n",
       "</div>"
      ],
      "text/plain": [
       "                 BTC      ETH  MATIC    XTZ\n",
       "<DATE>                                     \n",
       "2021-06-01  36389.27  2594.63  1.811  3.641\n",
       "2021-06-02  37809.74  2721.36  1.813  3.844\n",
       "2021-06-03  38779.50  2819.25  1.802  3.838\n",
       "2021-06-04  37220.06  2732.50  1.675  3.617\n",
       "2021-06-05  34946.84  2560.40  1.474  3.301"
      ]
     },
     "execution_count": 75,
     "metadata": {},
     "output_type": "execute_result"
    }
   ],
   "source": [
    "crypto_df.tail()"
   ]
  },
  {
   "cell_type": "code",
   "execution_count": 76,
   "metadata": {},
   "outputs": [],
   "source": [
    "crypto_norm_df = normalize_data(crypto_df, 1000)\n",
    "plot_data(crypto_norm_df)"
   ]
  },
  {
   "cell_type": "code",
   "execution_count": 77,
   "metadata": {},
   "outputs": [
    {
     "data": {
      "text/html": [
       "<div>\n",
       "<style scoped>\n",
       "    .dataframe tbody tr th:only-of-type {\n",
       "        vertical-align: middle;\n",
       "    }\n",
       "\n",
       "    .dataframe tbody tr th {\n",
       "        vertical-align: top;\n",
       "    }\n",
       "\n",
       "    .dataframe thead th {\n",
       "        text-align: right;\n",
       "    }\n",
       "</style>\n",
       "<table border=\"1\" class=\"dataframe\">\n",
       "  <thead>\n",
       "    <tr style=\"text-align: right;\">\n",
       "      <th></th>\n",
       "      <th>BTC</th>\n",
       "      <th>ETH</th>\n",
       "      <th>MATIC</th>\n",
       "      <th>XTZ</th>\n",
       "    </tr>\n",
       "    <tr>\n",
       "      <th>&lt;DATE&gt;</th>\n",
       "      <th></th>\n",
       "      <th></th>\n",
       "      <th></th>\n",
       "      <th></th>\n",
       "    </tr>\n",
       "  </thead>\n",
       "  <tbody>\n",
       "    <tr>\n",
       "      <th>2021-06-01</th>\n",
       "      <td>311.019402</td>\n",
       "      <td>864.876667</td>\n",
       "      <td>407.791038</td>\n",
       "      <td>1.8205</td>\n",
       "    </tr>\n",
       "    <tr>\n",
       "      <th>2021-06-02</th>\n",
       "      <td>323.160171</td>\n",
       "      <td>907.120000</td>\n",
       "      <td>408.241387</td>\n",
       "      <td>1.9220</td>\n",
       "    </tr>\n",
       "    <tr>\n",
       "      <th>2021-06-03</th>\n",
       "      <td>331.448718</td>\n",
       "      <td>939.750000</td>\n",
       "      <td>405.764467</td>\n",
       "      <td>1.9190</td>\n",
       "    </tr>\n",
       "    <tr>\n",
       "      <th>2021-06-04</th>\n",
       "      <td>318.120171</td>\n",
       "      <td>910.833333</td>\n",
       "      <td>377.167305</td>\n",
       "      <td>1.8085</td>\n",
       "    </tr>\n",
       "    <tr>\n",
       "      <th>2021-06-05</th>\n",
       "      <td>298.690940</td>\n",
       "      <td>853.466667</td>\n",
       "      <td>331.907228</td>\n",
       "      <td>1.6505</td>\n",
       "    </tr>\n",
       "  </tbody>\n",
       "</table>\n",
       "</div>"
      ],
      "text/plain": [
       "                   BTC         ETH       MATIC     XTZ\n",
       "<DATE>                                                \n",
       "2021-06-01  311.019402  864.876667  407.791038  1.8205\n",
       "2021-06-02  323.160171  907.120000  408.241387  1.9220\n",
       "2021-06-03  331.448718  939.750000  405.764467  1.9190\n",
       "2021-06-04  318.120171  910.833333  377.167305  1.8085\n",
       "2021-06-05  298.690940  853.466667  331.907228  1.6505"
      ]
     },
     "execution_count": 77,
     "metadata": {},
     "output_type": "execute_result"
    }
   ],
   "source": [
    "crypto_norm_df.tail()"
   ]
  },
  {
   "cell_type": "code",
   "execution_count": 78,
   "metadata": {},
   "outputs": [],
   "source": [
    "plot_data(crypto_norm_df)"
   ]
  },
  {
   "cell_type": "code",
   "execution_count": 113,
   "metadata": {},
   "outputs": [
    {
     "data": {
      "text/plain": [
       "<AxesSubplot:xlabel='<DATE>'>"
      ]
     },
     "execution_count": 113,
     "metadata": {},
     "output_type": "execute_result"
    }
   ],
   "source": [
    "crypto_norm_df = normalize_data(crypto_df, 3917)\n",
    "crypto_norm_df.iloc[3917:].plot()"
   ]
  },
  {
   "cell_type": "code",
   "execution_count": 99,
   "metadata": {},
   "outputs": [
    {
     "data": {
      "text/html": [
       "<div>\n",
       "<style scoped>\n",
       "    .dataframe tbody tr th:only-of-type {\n",
       "        vertical-align: middle;\n",
       "    }\n",
       "\n",
       "    .dataframe tbody tr th {\n",
       "        vertical-align: top;\n",
       "    }\n",
       "\n",
       "    .dataframe thead th {\n",
       "        text-align: right;\n",
       "    }\n",
       "</style>\n",
       "<table border=\"1\" class=\"dataframe\">\n",
       "  <thead>\n",
       "    <tr style=\"text-align: right;\">\n",
       "      <th></th>\n",
       "      <th>BTC</th>\n",
       "      <th>ETH</th>\n",
       "      <th>MATIC</th>\n",
       "      <th>XTZ</th>\n",
       "    </tr>\n",
       "    <tr>\n",
       "      <th>&lt;DATE&gt;</th>\n",
       "      <th></th>\n",
       "      <th></th>\n",
       "      <th></th>\n",
       "      <th></th>\n",
       "    </tr>\n",
       "  </thead>\n",
       "  <tbody>\n",
       "    <tr>\n",
       "      <th>2021-06-01</th>\n",
       "      <td>0.647660</td>\n",
       "      <td>1.299680</td>\n",
       "      <td>5.309293</td>\n",
       "      <td>0.647289</td>\n",
       "    </tr>\n",
       "    <tr>\n",
       "      <th>2021-06-02</th>\n",
       "      <td>0.672942</td>\n",
       "      <td>1.363161</td>\n",
       "      <td>5.315157</td>\n",
       "      <td>0.683378</td>\n",
       "    </tr>\n",
       "    <tr>\n",
       "      <th>2021-06-03</th>\n",
       "      <td>0.690202</td>\n",
       "      <td>1.412195</td>\n",
       "      <td>5.282908</td>\n",
       "      <td>0.682311</td>\n",
       "    </tr>\n",
       "    <tr>\n",
       "      <th>2021-06-04</th>\n",
       "      <td>0.662447</td>\n",
       "      <td>1.368741</td>\n",
       "      <td>4.910583</td>\n",
       "      <td>0.643022</td>\n",
       "    </tr>\n",
       "    <tr>\n",
       "      <th>2021-06-05</th>\n",
       "      <td>0.621988</td>\n",
       "      <td>1.282534</td>\n",
       "      <td>4.321313</td>\n",
       "      <td>0.586844</td>\n",
       "    </tr>\n",
       "  </tbody>\n",
       "</table>\n",
       "</div>"
      ],
      "text/plain": [
       "                 BTC       ETH     MATIC       XTZ\n",
       "<DATE>                                            \n",
       "2021-06-01  0.647660  1.299680  5.309293  0.647289\n",
       "2021-06-02  0.672942  1.363161  5.315157  0.683378\n",
       "2021-06-03  0.690202  1.412195  5.282908  0.682311\n",
       "2021-06-04  0.662447  1.368741  4.910583  0.643022\n",
       "2021-06-05  0.621988  1.282534  4.321313  0.586844"
      ]
     },
     "execution_count": 99,
     "metadata": {},
     "output_type": "execute_result"
    }
   ],
   "source": [
    "crypto_norm_df.tail()"
   ]
  },
  {
   "cell_type": "code",
   "execution_count": 100,
   "metadata": {},
   "outputs": [
    {
     "data": {
      "text/plain": [
       "BTC      56185.7200\n",
       "ETH       1996.3600\n",
       "MATIC        0.3411\n",
       "XTZ          5.6250\n",
       "Name: 2021-04-07 00:00:00, dtype: float64"
      ]
     },
     "execution_count": 100,
     "metadata": {},
     "output_type": "execute_result"
    }
   ],
   "source": [
    "crypto_df.iloc[3917]"
   ]
  },
  {
   "cell_type": "code",
   "execution_count": 93,
   "metadata": {},
   "outputs": [
    {
     "data": {
      "text/plain": [
       "BTC      6446.350000\n",
       "ETH       217.350000\n",
       "MATIC       0.004441\n",
       "XTZ         1.320000\n",
       "Name: 2018-10-03 00:00:00, dtype: float64"
      ]
     },
     "execution_count": 93,
     "metadata": {},
     "output_type": "execute_result"
    }
   ],
   "source": [
    "crypto_df.iloc[3000]"
   ]
  },
  {
   "cell_type": "code",
   "execution_count": 112,
   "metadata": {},
   "outputs": [
    {
     "data": {
      "text/plain": [
       "<AxesSubplot:xlabel='<DATE>'>"
      ]
     },
     "execution_count": 112,
     "metadata": {},
     "output_type": "execute_result"
    }
   ],
   "source": [
    "crypto_norm_df = normalize_data(crypto_df, 3947)\n",
    "crypto_norm_df.iloc[3947:].plot()"
   ]
  },
  {
   "cell_type": "code",
   "execution_count": 114,
   "metadata": {},
   "outputs": [
    {
     "data": {
      "text/plain": [
       "<AxesSubplot:xlabel='<DATE>'>"
      ]
     },
     "execution_count": 114,
     "metadata": {},
     "output_type": "execute_result"
    }
   ],
   "source": [
    "crypto_norm_df = normalize_data(crypto_df, 3612)\n",
    "crypto_norm_df.iloc[3612:].plot()"
   ]
  },
  {
   "cell_type": "code",
   "execution_count": null,
   "metadata": {},
   "outputs": [],
   "source": []
  }
 ],
 "metadata": {
  "kernelspec": {
   "display_name": "Python 3",
   "language": "python",
   "name": "python3"
  },
  "language_info": {
   "codemirror_mode": {
    "name": "ipython",
    "version": 3
   },
   "file_extension": ".py",
   "mimetype": "text/x-python",
   "name": "python",
   "nbconvert_exporter": "python",
   "pygments_lexer": "ipython3",
   "version": "3.8.5"
  }
 },
 "nbformat": 4,
 "nbformat_minor": 4
}
