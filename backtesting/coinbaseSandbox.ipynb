{
 "cells": [
  {
   "cell_type": "code",
   "execution_count": 6,
   "metadata": {},
   "outputs": [
    {
     "name": "stdout",
     "output_type": "stream",
     "text": [
      "directory path:  C:\\Users\\wojnj1\\Documents\\+coinbase\n"
     ]
    }
   ],
   "source": [
    "# Coinbase Sandbox Demo\n",
    "#\n",
    "# this demo uses the Coinbase Pro client for Python: \n",
    "# https://github.com/danpaquin/coinbasepro-python\n",
    "#\n",
    "# it's recommended to run cbpro in its own Python environment:\n",
    "# conda create --name environment_name\n",
    "#\n",
    "# pip install cbpro\n",
    "# or\n",
    "# pip install git+git://github.com/danpaquin/coinbasepro-python.git\n",
    "#\n",
    "# there are a number of libraries that need to be in the python environment for this demo\n",
    "# to run.  please review the import statements below and install the necessary dependencies\n",
    "# before running this notebook.\n",
    "\n",
    "import os\n",
    "\n",
    "import cbpro\n",
    "\n",
    "import json, hmac, hashlib, time, requests, base64\n",
    "from requests.auth import AuthBase\n",
    "\n",
    "import time\n",
    "import numpy as np\n",
    "import pandas as pd\n",
    "import datetime as dt\n",
    "from pylab import mpl, plt\n",
    "\n",
    "# the Coinbase Pro Sandbox api key, secret, and passphrase have been stored locally as environment variables.\n",
    "# in order to implement this project, setup a Coinbase Pro account and generate a Coinbase Pro Sandbox\n",
    "# api key.  For more information go to the Coinbase Pro Sandbox Documentation url below--\n",
    "# https://docs.pro.coinbase.com/#sandbox\n",
    "\n",
    "# get current directory\n",
    "__file__ = 'coinbaseSandbox.ipynb'\n",
    "\n",
    "dir_path = os.path.dirname(os.path.realpath(__file__))\n",
    "\n",
    "#print('directory path: ', dir_path)\n",
    "\n",
    "# Authentication credentials\n",
    "api_key = os.environ.get('coinbaseSandboxKey')\n",
    "api_secret = os.environ.get('coinbaseSandboxSecret')\n",
    "passphrase = os.environ.get('coinbaseSandboxPassphrase')\n",
    "\n",
    "# sandbox authenticated client\n",
    "auth_client = cbpro.AuthenticatedClient(api_key, api_secret, passphrase, \\\n",
    "                                        api_url='https://api-public.sandbox.pro.coinbase.com')\n",
    "# live account authenticated client\n",
    "# uses a different set of API access credentials (api_key, api_secret, passphrase)\n",
    "# auth_client = cbpro.AuthenticatedCliet(api_key, api_secret, passphrase)\n",
    "\n",
    "# get accounts listed for api key\n",
    "account_info = auth_client.get_accounts()\n",
    "\n",
    "df = pd.DataFrame(account_info)\n",
    "\n",
    "df.to_csv('account_info.csv') # save data locally for development use"
   ]
  },
  {
   "cell_type": "code",
   "execution_count": 5,
   "metadata": {},
   "outputs": [
    {
     "name": "stdout",
     "output_type": "stream",
     "text": [
      "         id base_currency quote_currency base_min_size    base_max_size  \\\n",
      "0   DAI-USD           DAI            USD    1.00000000  100000.00000000   \n",
      "1   BAL-BTC           BAL            BTC    0.10000000    6700.00000000   \n",
      "2  AAVE-USD          AAVE            USD    0.01000000    1200.00000000   \n",
      "3   SNX-EUR           SNX            EUR    0.10000000   19000.00000000   \n",
      "4   LTC-USD           LTC            USD    0.10000000    4000.00000000   \n",
      "5   XTZ-EUR           XTZ            EUR    1.00000000  100000.00000000   \n",
      "6   XTZ-USD           XTZ            USD    1.00000000  100000.00000000   \n",
      "7  BAT-USDC           BAT           USDC    1.00000000  800000.00000000   \n",
      "8   XRP-EUR           XRP            EUR    1.00000000  500000.00000000   \n",
      "9   ETC-EUR           ETC            EUR    0.10000000   20000.00000000   \n",
      "\n",
      "  quote_increment base_increment display_name min_market_funds  \\\n",
      "0      0.00000100     0.00001000      DAI/USD                5   \n",
      "1      0.00000001     0.01000000      BAL/BTC           0.0001   \n",
      "2      0.00100000     0.00100000     AAVE/USD              1.0   \n",
      "3      0.00010000     0.00100000      SNX/EUR              1.0   \n",
      "4      0.01000000     0.00000001      LTC/USD               10   \n",
      "5      0.00001000     0.01000000      XTZ/EUR               10   \n",
      "6      0.00010000     0.01000000      XTZ/USD               10   \n",
      "7      0.00000100     1.00000000     BAT/USDC               10   \n",
      "8      0.00010000     0.00000100      XRP/EUR               10   \n",
      "9      0.00100000     0.00000001      ETC/EUR               10   \n",
      "\n",
      "  max_market_funds  margin_enabled  post_only  limit_only  cancel_only  \\\n",
      "0           100000           False      False        True        False   \n",
      "1               10           False      False       False        False   \n",
      "2           500000           False      False       False        False   \n",
      "3            92000           False      False       False        False   \n",
      "4           250000           False      False       False        False   \n",
      "5           100000           False      False       False        False   \n",
      "6           100000           False      False       False        False   \n",
      "7           100000           False      False       False        False   \n",
      "8           100000           False      False        True        False   \n",
      "9           100000           False      False       False        False   \n",
      "\n",
      "   trading_disabled  status status_message  \n",
      "0             False  online                 \n",
      "1             False  online                 \n",
      "2             False  online                 \n",
      "3             False  online                 \n",
      "4             False  online                 \n",
      "5             False  online                 \n",
      "6             False  online                 \n",
      "7             False  online                 \n",
      "8             False  online                 \n",
      "9             False  online                 \n"
     ]
    }
   ],
   "source": [
    "# get list of products\n",
    "\n",
    "import cbpro\n",
    "\n",
    "import pandas as pd\n",
    "\n",
    "import json, hmac, hashlib, time, requests, base64\n",
    "from requests.auth import AuthBase\n",
    "\n",
    "# Define Public Client\n",
    "public_client = cbpro.PublicClient()\n",
    "\n",
    "# Get Products\n",
    "products = pd.DataFrame(public_client.get_products())\n",
    "\n",
    "products.sort_values('max_market_funds')\n",
    "\n",
    "print(products[:10])\n",
    "\n",
    "products.to_csv('products.csv')"
   ]
  },
  {
   "cell_type": "code",
   "execution_count": 7,
   "metadata": {},
   "outputs": [],
   "source": [
    "# Get Historic Rates\n",
    "# the max number of data points for a single request is 300 candles\n",
    "# if start/end time and granularity results in more than 300 data points,\n",
    "# the request will be rejected.\n",
    "# Make multiple requests if fine granularity results in > 300 data points.\n",
    "\n",
    "import cbpro\n",
    "\n",
    "import json, hmac, hashlib, time, requests, base64\n",
    "from requests.auth import AuthBase\n",
    "\n",
    "# Define Public Client\n",
    "public_client = cbpro.PublicClient()\n",
    "\n",
    "# Define ticker symbol to retrieve\n",
    "symbol = 'BTC-USD'\n",
    "\n",
    "# Issue: start and end dates results in error\n",
    "# Default returns 300 data points at specified granularity\n",
    "# Optional parameters: start and end dates need to be in ISO 8601 format (YYYYMMDD)\n",
    "#start = 20201215\n",
    "#end = 20201231\n",
    "\n",
    "# granularity is the time between ticks and must be one of these values:\n",
    "# {60, 300, 900, 3600, 21600, 86400} which corresponds to\n",
    "# one minute (60 sec), five minutes (300 sec), fifteen minutes (900 sec),\n",
    "# one hour (3600 sec), six hours (21600 sec), and one day (86400 sec)\n",
    "\n",
    "granularity = 86400\n",
    "\n",
    "try:\n",
    "    tick_data = pd.DataFrame(public_client.get_product_historic_rates(symbol, granularity=granularity))\n",
    "except: print(\"Request is invalid: verify start-end dates and granularity results in less than 300 data points\")\n",
    "\n",
    "tick_data.rename(columns={0:'time', 1:'low', 2:'high', 3:'open', 4:'close', 5:'volume'}, inplace=True)\n",
    "\n",
    "tick_data.to_csv('BTC-USD.csv')"
   ]
  },
  {
   "cell_type": "code",
   "execution_count": 13,
   "metadata": {},
   "outputs": [
    {
     "data": {
      "text/plain": [
       "<bound method NDFrame.head of                  low      high      open     close         volume\n",
       "time                                                             \n",
       "2020-03-08   8002.20   8901.37   8901.36   8037.76   16591.914102\n",
       "2020-03-09   7630.00   8187.03   8037.73   7934.52   25563.614175\n",
       "2020-03-10   7733.56   8158.25   7934.56   7894.68   17172.471301\n",
       "2020-03-11   7583.27   7987.97   7894.68   7938.05   13647.865139\n",
       "2020-03-12   4644.00   7969.45   7938.05   4857.10  113902.203329\n",
       "...              ...       ...       ...       ...            ...\n",
       "2020-12-28  26086.19  27477.00  26255.16  27040.36   21265.709350\n",
       "2020-12-29  25833.73  27396.77  27039.39  27366.35   20668.104338\n",
       "2020-12-30  27311.73  29018.26  27366.35  28897.42   28181.496815\n",
       "2020-12-31  28000.00  29321.90  28897.42  28990.08   28813.886911\n",
       "2021-01-01  28751.82  29083.75  28990.08  29039.66    1204.307665\n",
       "\n",
       "[300 rows x 5 columns]>"
      ]
     },
     "execution_count": 13,
     "metadata": {},
     "output_type": "execute_result"
    }
   ],
   "source": [
    "# work with saved historic data to minimize the number of api requests\n",
    "\n",
    "import pandas as pd\n",
    "\n",
    "tick_data = pd.read_csv('BTC-USD.csv', index_col=0, infer_datetime_format=True, parse_dates=True)\n",
    "\n",
    "tick_data.iloc[:, 0] = pd.to_datetime(tick_data.iloc[:, 0], infer_datetime_format=True, unit='s')\n",
    "\n",
    "tick_data.set_index('time', inplace=True)\n",
    "\n",
    "tick_data.sort_values(by='time', inplace=True)\n",
    "\n",
    "data = tick_data\n",
    "\n",
    "data.head"
   ]
  },
  {
   "cell_type": "code",
   "execution_count": 14,
   "metadata": {},
   "outputs": [
    {
     "data": {
      "text/plain": [
       "<bound method NDFrame.head of             lag_1  lag_2  lag_3  lag_4  lag_5  direction\n",
       "time                                                    \n",
       "2020-03-14    0.0    0.0    0.0    1.0    0.0          1\n",
       "2020-03-15    1.0    0.0    0.0    0.0    1.0          1\n",
       "2020-03-16    1.0    1.0    0.0    0.0    0.0         -1\n",
       "2020-03-17    0.0    1.0    1.0    0.0    0.0          1\n",
       "2020-03-18    1.0    0.0    1.0    1.0    0.0         -1\n",
       "...           ...    ...    ...    ...    ...        ...\n",
       "2020-12-28    1.0    1.0    1.0    0.0    1.0         -1\n",
       "2020-12-29    0.0    1.0    1.0    1.0    0.0         -1\n",
       "2020-12-30    0.0    0.0    1.0    1.0    1.0          1\n",
       "2020-12-31    1.0    0.0    0.0    1.0    1.0          1\n",
       "2021-01-01    1.0    1.0    0.0    0.0    1.0          1\n",
       "\n",
       "[294 rows x 6 columns]>"
      ]
     },
     "execution_count": 14,
     "metadata": {},
     "output_type": "execute_result"
    }
   ],
   "source": [
    "# Create the features data by lagging the log returns\n",
    "\n",
    "# Adapted from Python For Finance, 2nd ed., Hilpisch, Yves.\n",
    "# Chapter 16 - Automated Trading, ML-Based Trading Strategy: Vectorized Backtesting\n",
    "\n",
    "import numpy as np\n",
    "import pandas as pd\n",
    "\n",
    "data['mid'] = (data['high']+data['low'])/2\n",
    "\n",
    "data['returns'] = np.log(data['mid']/data['mid'].shift(1))\n",
    "\n",
    "lags = 5\n",
    "\n",
    "def create_lags(data):\n",
    "    global cols\n",
    "    cols = []\n",
    "    for lag in range(1, lags + 1):\n",
    "        col = 'lag_{}'.format(lag)\n",
    "        data[col] = data['returns'].shift(lag)\n",
    "        cols.append(col)\n",
    "\n",
    "create_lags(data)\n",
    "\n",
    "data.dropna(inplace=True)\n",
    "\n",
    "data[cols] = np.where(data[cols] > 0, 1, 0)\n",
    "\n",
    "data['direction'] = np.where(data['returns'] > 0, 1, -1)\n",
    "\n",
    "data[cols + ['direction']].head"
   ]
  },
  {
   "cell_type": "code",
   "execution_count": 18,
   "metadata": {},
   "outputs": [
    {
     "data": {
      "text/plain": [
       "0.5872340425531914"
      ]
     },
     "execution_count": 18,
     "metadata": {},
     "output_type": "execute_result"
    }
   ],
   "source": [
    "# A support vector machine algorithm for classification is used.\n",
    "# The code trains and tests the algorithmic trading strategy based on a sequential train-test split.\n",
    "\n",
    "# Adapted from Python For Finance, 2nd ed., Hilpisch, Yves.\n",
    "# Chapter 16 - Automated Trading, ML-Based Trading Strategy: Vectorized Backtesting\n",
    "\n",
    "from sklearn.svm import SVC\n",
    "from sklearn.metrics import accuracy_score\n",
    "\n",
    "model = SVC(C=1, kernel='linear', gamma = 'auto')\n",
    "\n",
    "split = int(len(data) * 0.80)\n",
    "\n",
    "train = data.iloc[:split].copy() # training dataset\n",
    "\n",
    "model.fit(train[cols], train['direction'])\n",
    "\n",
    "accuracy_score(train['direction'], model.predict(train[cols]))"
   ]
  },
  {
   "cell_type": "code",
   "execution_count": 19,
   "metadata": {},
   "outputs": [
    {
     "data": {
      "text/plain": [
       "0.6779661016949152"
      ]
     },
     "execution_count": 19,
     "metadata": {},
     "output_type": "execute_result"
    }
   ],
   "source": [
    "test = data.iloc[split:].copy()  # test dataset\n",
    "\n",
    "test['position'] = model.predict(test[cols])\n",
    "\n",
    "accuracy_score(test['direction'], test['position'])"
   ]
  },
  {
   "cell_type": "code",
   "execution_count": 21,
   "metadata": {},
   "outputs": [
    {
     "data": {
      "text/plain": [
       "1"
      ]
     },
     "execution_count": 21,
     "metadata": {},
     "output_type": "execute_result"
    }
   ],
   "source": [
    "# Backtesting with Proportional Transaction Costs (ptc)\n",
    "\n",
    "# Coinbase uses a maker-taker fee model.  However, for amounts < $10k the maker-taker fee is 0.50%\n",
    "# The maker-taker fee model uses a pricing tier model where larger transaction volumes, in USD,\n",
    "# are charged a lower percentage: \n",
    "#                                  < $10k   0.50%  (taker = maker)\n",
    "#                            $50M - $100M   0.10% (taker) 0.00% (maker)\n",
    "\n",
    "# https://help.coinbase.com/en/pro/trading-and-funding/trading-rules-and-fees/fees.html\n",
    "\n",
    "ptc = 0.005  # 0.50%\n",
    "\n",
    "test['strategy'] = test['position'] * test['returns']\n",
    "\n",
    "sum(test['position'].diff() !=0)"
   ]
  },
  {
   "cell_type": "code",
   "execution_count": 22,
   "metadata": {},
   "outputs": [
    {
     "data": {
      "text/plain": [
       "returns        2.112989\n",
       "strategy       2.112989\n",
       "strategy_tc    2.102450\n",
       "dtype: float64"
      ]
     },
     "execution_count": 22,
     "metadata": {},
     "output_type": "execute_result"
    }
   ],
   "source": [
    "test['strategy_tc'] = np.where(test['position'].diff() != 0,\n",
    "                              test['strategy'] - ptc,\n",
    "                              test['strategy'])\n",
    "\n",
    "test[['returns', 'strategy', 'strategy_tc']].sum().apply(np.exp)"
   ]
  },
  {
   "cell_type": "code",
   "execution_count": 24,
   "metadata": {},
   "outputs": [
    {
     "data": {
      "image/png": "[encoded data removed]",
      "text/plain": [
       "<Figure size 720x432 with 1 Axes>"
      ]
     },
     "metadata": {
      "needs_background": "light"
     },
     "output_type": "display_data"
    }
   ],
   "source": [
    "# plot results\n",
    "\n",
    "from pylab import mpl, plt\n",
    "\n",
    "test[['returns', 'strategy', 'strategy_tc']].cumsum().apply(np.exp).plot(figsize=(10,6))\n",
    "plt.savefig('10-BTC-USD_SVM.png')\n",
    "plt.show()"
   ]
  }
 ],
 "metadata": {
  "kernelspec": {
   "display_name": "Python 3",
   "language": "python",
   "name": "python3"
  },
  "language_info": {
   "codemirror_mode": {
    "name": "ipython",
    "version": 3
   },
   "file_extension": ".py",
   "mimetype": "text/x-python",
   "name": "python",
   "nbconvert_exporter": "python",
   "pygments_lexer": "ipython3",
   "version": "3.8.5"
  }
 },
 "nbformat": 4,
 "nbformat_minor": 4
}
