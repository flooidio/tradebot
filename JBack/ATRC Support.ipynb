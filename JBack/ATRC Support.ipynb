{
 "cells": [
  {
   "cell_type": "code",
   "execution_count": 1,
   "id": "ff319a54",
   "metadata": {},
   "outputs": [
    {
     "name": "stdout",
     "output_type": "stream",
     "text": [
      "Enter Symbol: SPY\n",
      "valid intervals: 1m,2m,5m,15m,30m,60m,90m,1h,1d,5d,1wk,1mo,3mo\n",
      "Intraday if period < 60 days)\n",
      "Test Interval15m\n",
      "                                 Open        High         Low       Close  \\\n",
      "Datetime                                                                    \n",
      "2021-05-03 09:30:00-04:00  419.429993  419.440002  418.619995  419.140015   \n",
      "2021-05-03 09:45:00-04:00  419.140015  419.839996  418.839996  419.488190   \n",
      "2021-05-03 10:00:00-04:00  419.489990  419.660004  418.869995  419.364990   \n",
      "2021-05-03 10:15:00-04:00  419.364990  419.739990  419.149994  419.350006   \n",
      "2021-05-03 10:30:00-04:00  419.350006  419.739990  419.170013  419.184998   \n",
      "\n",
      "                            Volume  Dividends  Stock Splits  \n",
      "Datetime                                                     \n",
      "2021-05-03 09:30:00-04:00  4089327          0             0  \n",
      "2021-05-03 09:45:00-04:00  3162258          0             0  \n",
      "2021-05-03 10:00:00-04:00  2820669          0             0  \n",
      "2021-05-03 10:15:00-04:00  2012614          0             0  \n",
      "2021-05-03 10:30:00-04:00  1658072          0             0  \n"
     ]
    }
   ],
   "source": [
    "# This notebook calculates the returns over 1 through 15 bars for trading signals.\n",
    "# Every signal is evaluated so this return does not reflect the returns that would have been realized\n",
    "# by entering trades. Data is pulled from Yahoo finance for any given symbol.  Other data sources may\n",
    "# be substituted in this cell.  The key fields are \"Open\", \"High\", \"Low\", and \"Close\".\n",
    "\n",
    "# Import Yahoo finance and talib (for ATR calculations)\n",
    "import yfinance as yf\n",
    "import talib\n",
    "import numpy as np\n",
    "import random\n",
    "from matplotlib.ticker import PercentFormatter\n",
    "import matplotlib.pyplot as plt\n",
    "\n",
    "# Get the desired ticker symbol\n",
    "sym = \" \"\n",
    "sym = input(\"Enter Symbol: \")\n",
    "\n",
    "# Get test interval\n",
    "print(\"valid intervals: 1m,2m,5m,15m,30m,60m,90m,1h,1d,5d,1wk,1mo,3mo\")\n",
    "print(\"Intraday if period < 60 days)\")\n",
    "test_interval = \"\"\n",
    "test_interval = input(\"Test Interval\")\n",
    "\n",
    "raise_error = 0\n",
    "if test_interval == \"1d\" or test_interval == \"5d\" or test_interval == \"1wk\" or test_interval == \"1mo\" or test_interval == \"3mo\":\n",
    "    # Set the desired Start and End Dates\n",
    "    start_date = \"2000-06-01\"\n",
    "    end_date = \"2021-06-15\"\n",
    "elif test_interval == \"1m\" or test_interval == \"2m\" or test_interval == \"5m\" or test_interval == \"15m\" or test_interval == \"30m\" or test_interval == \"60m\" or test_interval == \"90m\":\n",
    "    # Set the desired Start and End Dates\n",
    "    start_date = \"2021-05-01\"\n",
    "    end_date = \"2021-06-15\"\n",
    "else:\n",
    "    raise_error = 1\n",
    "    print(\"Invalid test interval\")\n",
    "    \n",
    "if raise_error == 0:\n",
    "    # Get data from Yahoo Finance\n",
    "    # fetch data by interval (including intraday if period < 60 days)\n",
    "    # valid intervals: 1m,2m,5m,15m,30m,60m,90m,1h,1d,5d,1wk,1mo,3mo\n",
    "    # (optional, default is '1d') \n",
    "    # For more data an alternative to Yahoo may be required\n",
    "    ticker = yf.Ticker(sym)\n",
    "    df = ticker.history(start=start_date, end=end_date, interval=test_interval)\n",
    "    df = df.dropna()\n",
    "\n",
    "    print(df.head(5))   "
   ]
  },
  {
   "cell_type": "code",
   "execution_count": 2,
   "id": "dd20d492",
   "metadata": {},
   "outputs": [
    {
     "name": "stdout",
     "output_type": "stream",
     "text": [
      "                                 Open        High         Low       Close  \\\n",
      "Datetime                                                                    \n",
      "2021-05-03 09:30:00-04:00  419.429993  419.440002  418.619995  419.140015   \n",
      "2021-05-03 09:45:00-04:00  419.140015  419.839996  418.839996  419.488190   \n",
      "2021-05-03 10:00:00-04:00  419.489990  419.660004  418.869995  419.364990   \n",
      "2021-05-03 10:15:00-04:00  419.364990  419.739990  419.149994  419.350006   \n",
      "2021-05-03 10:30:00-04:00  419.350006  419.739990  419.170013  419.184998   \n",
      "\n",
      "                            Volume  Dividends  Stock Splits  ATR5  ATR40  \\\n",
      "Datetime                                                                   \n",
      "2021-05-03 09:30:00-04:00  4089327          0             0   NaN    NaN   \n",
      "2021-05-03 09:45:00-04:00  3162258          0             0   NaN    NaN   \n",
      "2021-05-03 10:00:00-04:00  2820669          0             0   NaN    NaN   \n",
      "2021-05-03 10:15:00-04:00  2012614          0             0   NaN    NaN   \n",
      "2021-05-03 10:30:00-04:00  1658072          0             0   NaN    NaN   \n",
      "\n",
      "                           ATR Ratio  SIGNAL  SUPPORT  \n",
      "Datetime                                               \n",
      "2021-05-03 09:30:00-04:00        NaN       0      NaN  \n",
      "2021-05-03 09:45:00-04:00        NaN       0      NaN  \n",
      "2021-05-03 10:00:00-04:00        NaN       0      NaN  \n",
      "2021-05-03 10:15:00-04:00        NaN       0      NaN  \n",
      "2021-05-03 10:30:00-04:00        NaN       0      NaN  \n"
     ]
    }
   ],
   "source": [
    "# TRADING SIGNAL GENERATION ALGORITHM\n",
    "# The result of this cell is a trading signal AND a support level.  The output of this cell \n",
    "# must be a df['SIGNAL'] AND a df['SUPPORT'] column added to the dataframe.\n",
    "# Any signal generation can be substituted as long as the result is a df['SIGNAL'] and\n",
    "# df['SUPPORT'] value.\n",
    "\n",
    "# ATRC Calculation\n",
    "\n",
    "# This signal is based on Adam Grimes work on marketlifetrading.com.  Trade entry conditions:\n",
    "# 1.  The ratio of the 5 bar ATR to the 40 bar ATR is less than an ATR threshold.\n",
    "# 2.  The current bar's range is greater than the 5 bar ATR\n",
    "# 3.  The current bar's close is in the top 50% of the range.\n",
    "\n",
    "# Only a small number of trading signals are expected.\n",
    "\n",
    "# Set the ATR threshold.  Settings between 0.5 and 0.9 are recommended.\n",
    "# The higher the setting the more trades.\n",
    "atr_threshold = 0.7\n",
    "\n",
    "# Calculate ATRC indicator values and find signals.         \n",
    "df['ATR5'] = talib.ATR(df['High'], df['Low'], df['Close'], timeperiod=5)\n",
    "df['ATR40'] = talib.ATR(df['High'], df['Low'], df['Close'], timeperiod=40)\n",
    "\n",
    "df.loc[(df['ATR40'] != 0), 'ATR Ratio'] = df['ATR5']/df['ATR40']\n",
    "\n",
    "# Qualify signal - Set the signal value to zero to avoid nan\n",
    "df['SIGNAL'] = 0\n",
    "df.loc[(df['ATR Ratio'] < atr_threshold) & (df['ATR Ratio'] != 0) &\n",
    "       (df['High'] - df['Low'] >= df['ATR5']) &\n",
    "       (df['Close'] > df['Low'] + (df['High'] - df['Low']) * 0.6), 'SIGNAL'] = 1 \n",
    "\n",
    "# Set the support leve to the low of the signal bar - Other values can be tested.\n",
    "df.loc[(df['SIGNAL'] == 1), 'SUPPORT'] = df['Low']\n",
    "\n",
    "print(df.head(5))"
   ]
  },
  {
   "cell_type": "code",
   "execution_count": 3,
   "id": "4ab6f542",
   "metadata": {},
   "outputs": [
    {
     "name": "stdout",
     "output_type": "stream",
     "text": [
      "There were  14  signals\n",
      "Probablity of Trading Signal:   1.79%\n"
     ]
    }
   ],
   "source": [
    "# Determine the frequency of the trading signal\n",
    "\n",
    "# How many bars are in the file?\n",
    "bars = len(df)\n",
    "\n",
    "# How many signals were generated?\n",
    "signals = df['SIGNAL'].sum()\n",
    "\n",
    "# Signal Frequency\n",
    "cl_freq = 0\n",
    "if bars != 0:\n",
    "    cl_freq = signals/bars\n",
    "\n",
    "print(\"There were \", signals, \" signals\")\n",
    "print(\"Probablity of Trading Signal:  \", '{:2.2%}'.format(cl_freq))"
   ]
  },
  {
   "cell_type": "code",
   "execution_count": 4,
   "id": "a5a39794",
   "metadata": {
    "scrolled": true
   },
   "outputs": [
    {
     "name": "stdout",
     "output_type": "stream",
     "text": [
      "\n"
     ]
    },
    {
     "data": {
      "image/png": "[encoded data removed]",
      "text/plain": [
       "<Figure size 432x288 with 1 Axes>"
      ]
     },
     "metadata": {
      "needs_background": "light"
     },
     "output_type": "display_data"
    }
   ],
   "source": [
    "# CLOSING PRICE CALCULATIONS - Calculate the probability of support holding \n",
    "# based upon entering at the closing price.  Assumes you are watching the market and can enter \n",
    "# an options trade at the close of a bar.\n",
    "\n",
    "# Clear the support column\n",
    "for i in range(0,15):\n",
    "    df['SCL' + str(i + 1)] = 0\n",
    "    \n",
    "# Test the closing price of each bar after the trading signal\n",
    "for i in range(0,15):\n",
    "    df.loc[(df['SIGNAL'] == 1) & \n",
    "           (df['Close'].shift(-(i+1)) > df['SUPPORT']), 'SCL' + str(i + 1)] = 1\n",
    "\n",
    "# Find the probablity of support breaking.  These are not cummulative probabilities.\n",
    "# Note that support could be broken on bar 2 and 7 in which case the violation of support\n",
    "# would be recorded for both bars 2 and 7.  The assumption is that if you are interested\n",
    "# in support at bar 7 you won't necessarily care about bar 2 breaking support.\n",
    "pop_close = [0]*15\n",
    "for i in range(0,15):\n",
    "    if signals != 0:\n",
    "        pop_close[i] = df['SCL' + str(i + 1)].sum()/signals\n",
    "\n",
    "# Set up the plot x axis and reference lines for future plots        \n",
    "bar_count = [1, 2, 3, 4, 5, 6, 7, 8, 9, 10, 11, 12, 13, 14, 15]\n",
    "zeros = np.zeros_like(pop_close)\n",
    "fifty = [.5, .5, .5, .5, .5, .5, .5, .5, .5, .5, .5, .5, .5, .5, .5]\n",
    "seventy_five = [.75, .75, .75, .75, .75, .75, .75, .75, .75, .75, .75, .75, .75, .75, .75]\n",
    "\n",
    "# Plot the support results\n",
    "plt.title(\"PROBABLITY THAT SUPPORT HOLDS FOR CLOSING PRICE SCENARIO\")\n",
    "plt.gca().yaxis.set_major_formatter(PercentFormatter(1))\n",
    "plt.plot(bar_count, pop_close)\n",
    "plt.plot(bar_count, fifty, '--')\n",
    "plt.plot(bar_count, seventy_five, '--')\n",
    "plt.xlabel('Bars After Signal')\n",
    "plt.ylabel('POP (Close)')\n",
    "print(\"\")\n"
   ]
  },
  {
   "cell_type": "code",
   "execution_count": 5,
   "id": "b3f23077",
   "metadata": {},
   "outputs": [
    {
     "name": "stdout",
     "output_type": "stream",
     "text": [
      "Frequency of Signal under evaluation (Close):   1.79%\n",
      "Frequency of Random Signal:   1.28%\n",
      "Frequency of Random Signal:   2.69%\n",
      "Frequency of Random Signal:   0.64%\n",
      "Frequency of Random Signal:   1.54%\n",
      "Frequency of Random Signal:   2.56%\n",
      "Frequency of Random Signal:   2.44%\n",
      "Frequency of Random Signal:   2.05%\n",
      "Frequency of Random Signal:   1.15%\n",
      "Frequency of Random Signal:   2.05%\n",
      "Frequency of Random Signal:   1.41%\n",
      "Frequency of Random Signal:   2.44%\n",
      "Frequency of Random Signal:   2.05%\n",
      "Frequency of Random Signal:   1.67%\n",
      "Frequency of Random Signal:   1.41%\n",
      "Frequency of Random Signal:   1.28%\n",
      "Frequency of Random Signal:   1.67%\n",
      "Frequency of Random Signal:   1.41%\n",
      "Frequency of Random Signal:   1.15%\n",
      "Frequency of Random Signal:   1.79%\n",
      "Frequency of Random Signal:   1.28%\n",
      "\n"
     ]
    },
    {
     "data": {
      "image/png": "[encoded data removed]",
      "text/plain": [
       "<Figure size 432x288 with 1 Axes>"
      ]
     },
     "metadata": {
      "needs_background": "light"
     },
     "output_type": "display_data"
    }
   ],
   "source": [
    "# RANDOM SIGNAL COMPARISON WITH SIGNAL BASED ON CLOSING PRICE\n",
    "# Calculate POP based on a random signals.  Calculation is repeated 20 times\n",
    "# and compared to the returns generated by the signal.\n",
    "\n",
    "# Set the number of trials\n",
    "cl_trials = 20\n",
    "\n",
    "# Set up signal versus random performance comparison array\n",
    "svr_close = [0]*15\n",
    "\n",
    "print(\"Frequency of Signal under evaluation (Close):  \", '{:2.2%}'.format(cl_freq))\n",
    "\n",
    "for i in range(0,cl_trials):\n",
    "    # Clear the random signal column\n",
    "    df['CLX'] = 0\n",
    "    \n",
    "    # Generate a random number for each line/bar in the file\n",
    "    for j, row in df.iterrows():\n",
    "        df.at[j,'cl_x'] = random.random()\n",
    "        \n",
    "    # use the frequency of the signal (sigfreq) to generate a random signal\n",
    "    df.loc[(df['cl_x'] < cl_freq), 'CLX'] = 1\n",
    "    \n",
    "    # Clear the support column\n",
    "    df['RCL_SUPPORT'] = 0\n",
    "    # Set random support level to the low of the signal bar\n",
    "    df.loc[(df['CLX'] == 1), 'RCL_SUPPORT'] = df['Low']\n",
    "    \n",
    "    # How many random signals were generated?\n",
    "    signals = df['CLX'].sum()  \n",
    "   \n",
    "    # Signal Frequency\n",
    "    r_freq = 0\n",
    "    if bars != 0:\n",
    "        r_freq = signals/bars\n",
    "\n",
    "    print(\"Frequency of Random Signal:  \", '{:2.2%}'.format(r_freq))\n",
    "    \n",
    "    # Clean support columns\n",
    "    for j in range(0,15):\n",
    "        df['RCL' + str(j + 1)] = 0\n",
    "        \n",
    "    # Determine the number of times support holds\n",
    "    for j in range(0,15):\n",
    "        df.loc[(df['CLX'] == 1) & (df['Close'].shift(-(j+1)) > df['RCL_SUPPORT']), 'RCL' + str(j + 1)] = 1\n",
    "\n",
    "    random_close = [0]*15\n",
    "    for j in range(0,15):\n",
    "        if signals != 0:\n",
    "            random_close[j] = df['RCL' + str(j + 1)].sum()/signals\n",
    "    \n",
    "    # Compare to statistics from the trading signal\n",
    "    for j in range(0,15):\n",
    "        if pop_close[j] > random_close[j]:\n",
    "            svr_close[j] += 1\n",
    "\n",
    "for i in range(0,15):\n",
    "    svr_close[i] /= cl_trials\n",
    "    \n",
    "plt.title(\"SIGNAL VERSUS RANDOM TRIALS - RETURNS (CLOSE)\")\n",
    "plt.gca().yaxis.set_major_formatter(PercentFormatter(1))\n",
    "plt.plot(bar_count, svr_close)\n",
    "plt.plot(bar_count, zeros)\n",
    "plt.xlabel('Bars After Signal')\n",
    "plt.ylabel('Signal POP > Random POP')\n",
    "print(\"\")"
   ]
  },
  {
   "cell_type": "code",
   "execution_count": 6,
   "id": "f3ffc919",
   "metadata": {},
   "outputs": [
    {
     "name": "stdout",
     "output_type": "stream",
     "text": [
      "There were  9  signals\n",
      "Probablity of Trading Signal:   1.15%\n"
     ]
    }
   ],
   "source": [
    "# BUY STOP SCENARIO - Assume we wait until a buy stop order would have filled.\n",
    "# Calculate returns on the high price of the signal bar - assuming the next bar takes out the high\n",
    "# This is a buy stop scenario.\n",
    "\n",
    "df.loc[(df['SIGNAL'] == 1) & (df['High'].shift(-1) > df['High']), 'BS_fill'] = 1\n",
    "\n",
    "# How many fills for the buy stop?\n",
    "bs_fill = df['BS_fill'].sum()\n",
    "\n",
    "# Signal Frequency\n",
    "bs_freq = 0\n",
    "if bars != 0:\n",
    "    bs_freq = bs_fill/bars\n",
    "\n",
    "print(\"There were \", int(bs_fill), \" signals\")\n",
    "print(\"Probablity of Trading Signal:  \", '{:2.2%}'.format(bs_freq))"
   ]
  },
  {
   "cell_type": "code",
   "execution_count": 7,
   "id": "e5071f96",
   "metadata": {},
   "outputs": [
    {
     "name": "stdout",
     "output_type": "stream",
     "text": [
      "\n"
     ]
    },
    {
     "data": {
      "image/png": "[encoded data removed]",
      "text/plain": [
       "<Figure size 432x288 with 1 Axes>"
      ]
     },
     "metadata": {
      "needs_background": "light"
     },
     "output_type": "display_data"
    }
   ],
   "source": [
    "# BUY STOP SUPPORT CALCULATIONS - Calculate the probability of support holding \n",
    "# based upon entering with a buy stop.  Assumes you are watching the market and can enter \n",
    "# when the high of the signal bar is taken out by the next bar.\n",
    "\n",
    "# Clear the support column\n",
    "for i in range(0,15):\n",
    "    df['SBS' + str(i + 1)] = 0\n",
    "    \n",
    "# Test the closing price of each bar after the trading signal\n",
    "for i in range(0,15):\n",
    "    df.loc[(df['BS_fill'] == 1) & \n",
    "           (df['Close'].shift(-(i+1)) > df['SUPPORT']), 'SBS' + str(i + 1)] = 1\n",
    "\n",
    "# Find the probablity of support breaking.  These are not cummulative probabilities.\n",
    "# Note that support could be broken on bar 2 and 7 in which case the violation of support\n",
    "# would be recorded for both bars 2 and 7.  The assumption is that if you are interested\n",
    "# in support at bar 7 you won't necessarily care about bar 2 breaking support.\n",
    "pop_buystop = [0]*15\n",
    "for i in range(0,15):\n",
    "    if signals != 0:\n",
    "        pop_buystop[i] = df['SBS' + str(i + 1)].sum()/bs_fill\n",
    "\n",
    "# Plot the return results\n",
    "plt.title(\"PROBABLITY THAT SUPPORT HOLDS FOR BUY STOP PRICE SCENARIO\")\n",
    "plt.gca().yaxis.set_major_formatter(PercentFormatter(1))\n",
    "plt.plot(bar_count, pop_buystop)\n",
    "plt.plot(bar_count, fifty, '--')\n",
    "plt.plot(bar_count, seventy_five, '--')\n",
    "plt.xlabel('Bars After Signal')\n",
    "plt.ylabel('POP (Buy Stop)')\n",
    "print(\"\")"
   ]
  },
  {
   "cell_type": "code",
   "execution_count": 8,
   "id": "e43d6846",
   "metadata": {},
   "outputs": [
    {
     "name": "stdout",
     "output_type": "stream",
     "text": [
      "Frequency of Signal under evaluation (Buy Stop):   1.15%\n",
      "Frequency of Random Signal:   0.51%\n",
      "Frequency of Random Signal:   1.03%\n",
      "Frequency of Random Signal:   0.64%\n",
      "Frequency of Random Signal:   0.38%\n",
      "Frequency of Random Signal:   0.90%\n",
      "Frequency of Random Signal:   0.64%\n",
      "Frequency of Random Signal:   1.28%\n",
      "Frequency of Random Signal:   0.64%\n",
      "Frequency of Random Signal:   0.77%\n",
      "Frequency of Random Signal:   0.51%\n",
      "Frequency of Random Signal:   0.51%\n",
      "Frequency of Random Signal:   1.03%\n",
      "Frequency of Random Signal:   0.51%\n",
      "Frequency of Random Signal:   1.03%\n",
      "Frequency of Random Signal:   0.51%\n",
      "Frequency of Random Signal:   0.38%\n",
      "Frequency of Random Signal:   0.77%\n",
      "Frequency of Random Signal:   0.26%\n",
      "Frequency of Random Signal:   1.03%\n",
      "Frequency of Random Signal:   0.64%\n",
      " \n"
     ]
    },
    {
     "data": {
      "image/png": "[encoded data removed]",
      "text/plain": [
       "<Figure size 432x288 with 1 Axes>"
      ]
     },
     "metadata": {
      "needs_background": "light"
     },
     "output_type": "display_data"
    }
   ],
   "source": [
    "# RANDOM SIGNAL COMPARISON WITH SIGNAL BASED ON BUY STOP\n",
    "# Calculate POP based on a random signals.  Calculation is repeated 20 times\n",
    "# and compared to the returns generated by the signal.\n",
    "\n",
    "# Set the number of trials\n",
    "bs_trials = 20\n",
    "\n",
    "# Set up signal versus random performance comparison array\n",
    "svr_buystop = [0]*15\n",
    "\n",
    "print(\"Frequency of Signal under evaluation (Buy Stop):  \", '{:2.2%}'.format(bs_freq))\n",
    "\n",
    "for i in range(0,bs_trials):\n",
    "    # Clear the random signal column\n",
    "    df['BSX'] = 0\n",
    "    \n",
    "    # Generate a random number for each line/bar in the file\n",
    "    for j, row in df.iterrows():\n",
    "        df.at[j,'bs_x'] = random.random()\n",
    "        \n",
    "    # use the frequency of the signal (bsfreq) to generate a random signal\n",
    "    df.loc[(df['bs_x'] < bs_freq) & (df['High'].shift(-1) > df['High']), 'BSX'] = 1\n",
    "\n",
    "    # Clear the support column\n",
    "    df['RBS_SUPPORT'] = 0\n",
    "    # Set random support level to the low of the signal bar \n",
    "    df.loc[(df['BSX'] == 1), 'RBS_SUPPORT'] = df['Low']\n",
    "    \n",
    "    # How many random signals were generated?\n",
    "    signals = df['BSX'].sum()  \n",
    "\n",
    "    # Signal Frequency\n",
    "    r_freq = 0\n",
    "    if bars != 0:\n",
    "        r_freq = signals/bars\n",
    "\n",
    "    print(\"Frequency of Random Signal:  \", '{:2.2%}'.format(r_freq))  \n",
    "    \n",
    "    # Clean support columns\n",
    "    for j in range(0,15):\n",
    "        df['RBS' + str(j + 1)] = 0\n",
    "        \n",
    "    # Determine the number of times support holds with a buy stop order\n",
    "    for j in range(0,15):\n",
    "        df.loc[(df['BSX'] == 1) & (df['Close'].shift(-(j+1)) > df['RBS_SUPPORT']), 'RBS' + str(j + 1)] = 1\n",
    "\n",
    "    random_buystop = [0]*15\n",
    "    for j in range(0,15):\n",
    "        if signals != 0:\n",
    "            random_buystop[j] = df['RBS' + str(j + 1)].sum()/signals\n",
    "    \n",
    "    # Compare to statistics from the trading signal\n",
    "    for j in range(0,15):\n",
    "        if pop_buystop[j] > random_buystop[j]:\n",
    "            svr_buystop[j] += 1\n",
    "    \n",
    "for i in range(0,15):\n",
    "    svr_buystop[i] /= bs_trials\n",
    "\n",
    "plt.title(\"SIGNAL VERSUS RANDOM TRIALS - RETURNS (BUY STOP)\")\n",
    "plt.gca().yaxis.set_major_formatter(PercentFormatter(1))\n",
    "plt.plot(bar_count, svr_buystop)\n",
    "plt.plot(bar_count, zeros)\n",
    "plt.xlabel('Bars After Signal')\n",
    "plt.ylabel('Signal POP > Random POP')\n",
    "print(\" \")"
   ]
  },
  {
   "cell_type": "code",
   "execution_count": null,
   "id": "47df134f",
   "metadata": {},
   "outputs": [],
   "source": []
  }
 ],
 "metadata": {
  "kernelspec": {
   "display_name": "Python 3",
   "language": "python",
   "name": "python3"
  },
  "language_info": {
   "codemirror_mode": {
    "name": "ipython",
    "version": 3
   },
   "file_extension": ".py",
   "mimetype": "text/x-python",
   "name": "python",
   "nbconvert_exporter": "python",
   "pygments_lexer": "ipython3",
   "version": "3.8.8"
  }
 },
 "nbformat": 4,
 "nbformat_minor": 5
}
