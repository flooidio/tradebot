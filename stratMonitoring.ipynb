{
 "cells": [
  {
   "cell_type": "code",
   "execution_count": null,
   "metadata": {},
   "outputs": [
    {
     "name": "stdout",
     "output_type": "stream",
     "text": [
      "Connecting to trading algorithm server...\n"
     ]
    }
   ],
   "source": [
    "# Strategy Monitoring via Socket Communication\n",
    "# this file: stratMonitoring.ipynb\n",
    "# trading algorithm: onlineAlgo1.ipynb\n",
    "# Python for Finance, 2nd ed.\n",
    "# (c) Dr. Yves J. Hilpisch\n",
    "\n",
    "import zmq\n",
    "\n",
    "# sets up the socket communication via ZeroMQ (here: \"subscriber\")\n",
    "context = zmq.Context()\n",
    "socket = context.socket(zmq.SUB)\n",
    "\n",
    "#adjust the IP address to reflect the remote location\n",
    "# socket.connect('tcp://REMOTE_IP_ADDRESS:5555')\n",
    "# socket.connect('tcp://142.93.94.158:5555')\n",
    "# socket.connect('tcp://localhost:5555')\n",
    "print(\"Connecting to trading algorithm server...\")\n",
    "socket.connect('tcp://142.93.94.158:5555')\n",
    "\n",
    "# configures the socket to retrieve every message\n",
    "socket.setsockopt_string(zmq.SUBSCRIBE, '')\n",
    "\n",
    "while True:\n",
    "    try:\n",
    "        msg = socket.recv_string()\n",
    "        print(msg)\n",
    "    except KeyboardInterrupt:\n",
    "        sys.exit(0)"
   ]
  },
  {
   "cell_type": "code",
   "execution_count": null,
   "metadata": {},
   "outputs": [],
   "source": []
  },
  {
   "cell_type": "code",
   "execution_count": null,
   "metadata": {},
   "outputs": [],
   "source": []
  }
 ],
 "metadata": {
  "kernelspec": {
   "display_name": "Python 3",
   "language": "python",
   "name": "python3"
  },
  "language_info": {
   "codemirror_mode": {
    "name": "ipython",
    "version": 3
   },
   "file_extension": ".py",
   "mimetype": "text/x-python",
   "name": "python",
   "nbconvert_exporter": "python",
   "pygments_lexer": "ipython3",
   "version": "3.9.5"
  }
 },
 "nbformat": 4,
 "nbformat_minor": 4
}
