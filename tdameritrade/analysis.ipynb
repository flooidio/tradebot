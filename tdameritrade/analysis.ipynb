{
 "cells": [
  {
   "cell_type": "code",
   "execution_count": 33,
   "metadata": {},
   "outputs": [],
   "source": [
    "import qttk\n",
    "import denali"
   ]
  },
  {
   "cell_type": "code",
   "execution_count": 34,
   "metadata": {},
   "outputs": [],
   "source": [
    "run denali"
   ]
  },
  {
   "cell_type": "code",
   "execution_count": 1,
   "metadata": {},
   "outputs": [],
   "source": [
    "# Options Analysis\n",
    "\n",
    "import os\n",
    "import json\n",
    "import pandas as pd\n",
    "import numpy as np\n",
    "\n",
    "# Load Data\n",
    "def read_json(filename:str):\n",
    "    with open(filename, \"r\") as f:\n",
    "        data = json.load(f)\n",
    "        f.close()\n",
    "    return data\n",
    "\n",
    "f1 = 'price_history.json'\n",
    "f2 = 'opt_chain.json'\n",
    "\n",
    "price = read_json(f1)\n",
    "opt_chain = read_json(f2)"
   ]
  },
  {
   "cell_type": "code",
   "execution_count": 31,
   "metadata": {},
   "outputs": [
    {
     "data": {
      "text/plain": [
       "dict_keys(['candles', 'symbol', 'empty'])"
      ]
     },
     "execution_count": 31,
     "metadata": {},
     "output_type": "execute_result"
    }
   ],
   "source": [
    "price.keys()"
   ]
  },
  {
   "cell_type": "code",
   "execution_count": 2,
   "metadata": {},
   "outputs": [
    {
     "data": {
      "text/html": [
       "<div>\n",
       "<style scoped>\n",
       "    .dataframe tbody tr th:only-of-type {\n",
       "        vertical-align: middle;\n",
       "    }\n",
       "\n",
       "    .dataframe tbody tr th {\n",
       "        vertical-align: top;\n",
       "    }\n",
       "\n",
       "    .dataframe thead th {\n",
       "        text-align: right;\n",
       "    }\n",
       "</style>\n",
       "<table border=\"1\" class=\"dataframe\">\n",
       "  <thead>\n",
       "    <tr style=\"text-align: right;\">\n",
       "      <th></th>\n",
       "      <th>open</th>\n",
       "      <th>high</th>\n",
       "      <th>low</th>\n",
       "      <th>close</th>\n",
       "      <th>volume</th>\n",
       "      <th>datetime</th>\n",
       "    </tr>\n",
       "    <tr>\n",
       "      <th>datetime</th>\n",
       "      <th></th>\n",
       "      <th></th>\n",
       "      <th></th>\n",
       "      <th></th>\n",
       "      <th></th>\n",
       "      <th></th>\n",
       "    </tr>\n",
       "  </thead>\n",
       "  <tbody>\n",
       "    <tr>\n",
       "      <th>2021-05-10 11:00:00</th>\n",
       "      <td>422.48</td>\n",
       "      <td>422.53</td>\n",
       "      <td>422.48</td>\n",
       "      <td>422.51</td>\n",
       "      <td>2290</td>\n",
       "      <td>2021-05-10 11:00:00</td>\n",
       "    </tr>\n",
       "    <tr>\n",
       "      <th>2021-05-10 11:01:00</th>\n",
       "      <td>422.47</td>\n",
       "      <td>422.50</td>\n",
       "      <td>422.47</td>\n",
       "      <td>422.50</td>\n",
       "      <td>700</td>\n",
       "      <td>2021-05-10 11:01:00</td>\n",
       "    </tr>\n",
       "    <tr>\n",
       "      <th>2021-05-10 11:02:00</th>\n",
       "      <td>422.55</td>\n",
       "      <td>422.55</td>\n",
       "      <td>422.55</td>\n",
       "      <td>422.55</td>\n",
       "      <td>200</td>\n",
       "      <td>2021-05-10 11:02:00</td>\n",
       "    </tr>\n",
       "    <tr>\n",
       "      <th>2021-05-10 11:03:00</th>\n",
       "      <td>422.56</td>\n",
       "      <td>422.56</td>\n",
       "      <td>422.56</td>\n",
       "      <td>422.56</td>\n",
       "      <td>100</td>\n",
       "      <td>2021-05-10 11:03:00</td>\n",
       "    </tr>\n",
       "    <tr>\n",
       "      <th>2021-05-10 11:04:00</th>\n",
       "      <td>422.57</td>\n",
       "      <td>422.59</td>\n",
       "      <td>422.57</td>\n",
       "      <td>422.58</td>\n",
       "      <td>12401</td>\n",
       "      <td>2021-05-10 11:04:00</td>\n",
       "    </tr>\n",
       "  </tbody>\n",
       "</table>\n",
       "</div>"
      ],
      "text/plain": [
       "                       open    high     low   close  volume  \\\n",
       "datetime                                                      \n",
       "2021-05-10 11:00:00  422.48  422.53  422.48  422.51    2290   \n",
       "2021-05-10 11:01:00  422.47  422.50  422.47  422.50     700   \n",
       "2021-05-10 11:02:00  422.55  422.55  422.55  422.55     200   \n",
       "2021-05-10 11:03:00  422.56  422.56  422.56  422.56     100   \n",
       "2021-05-10 11:04:00  422.57  422.59  422.57  422.58   12401   \n",
       "\n",
       "                               datetime  \n",
       "datetime                                 \n",
       "2021-05-10 11:00:00 2021-05-10 11:00:00  \n",
       "2021-05-10 11:01:00 2021-05-10 11:01:00  \n",
       "2021-05-10 11:02:00 2021-05-10 11:02:00  \n",
       "2021-05-10 11:03:00 2021-05-10 11:03:00  \n",
       "2021-05-10 11:04:00 2021-05-10 11:04:00  "
      ]
     },
     "execution_count": 2,
     "metadata": {},
     "output_type": "execute_result"
    }
   ],
   "source": [
    "price_df = pd.DataFrame.from_dict(price['candles'])\n",
    "epoch = price_df.iloc[:,5]\n",
    "price_df.iloc[:,5] = pd.to_datetime(epoch, unit='ms')\n",
    "price_df = price_df.set_index(price_df.iloc[:,5])\n",
    "price_df.head()"
   ]
  },
  {
   "cell_type": "code",
   "execution_count": 37,
   "metadata": {},
   "outputs": [
    {
     "data": {
      "text/plain": [
       "dict_keys(['symbol', 'status', 'underlying', 'strategy', 'interval', 'isDelayed', 'isIndex', 'interestRate', 'underlyingPrice', 'volatility', 'daysToExpiration', 'numberOfContracts', 'callExpDateMap', 'putExpDateMap'])"
      ]
     },
     "execution_count": 37,
     "metadata": {},
     "output_type": "execute_result"
    }
   ],
   "source": [
    "opt_chain.keys()"
   ]
  },
  {
   "cell_type": "code",
   "execution_count": 39,
   "metadata": {},
   "outputs": [
    {
     "data": {
      "text/plain": [
       "dict_keys(['2021-05-24:2', '2021-05-26:4', '2021-05-28:6', '2021-06-01:10', '2021-06-02:11', '2021-06-04:13'])"
      ]
     },
     "execution_count": 39,
     "metadata": {},
     "output_type": "execute_result"
    }
   ],
   "source": [
    "opt_chain['callExpDateMap'].keys()"
   ]
  },
  {
   "cell_type": "code",
   "execution_count": 15,
   "metadata": {},
   "outputs": [],
   "source": [
    "call_chain = pd.json_normalize(opt_chain['callExpDateMap'])"
   ]
  },
  {
   "cell_type": "code",
   "execution_count": 16,
   "metadata": {},
   "outputs": [
    {
     "data": {
      "text/plain": [
       "Index(['2021-05-24:2.410.0', '2021-05-24:2.411.0', '2021-05-24:2.412.0',\n",
       "       '2021-05-24:2.413.0', '2021-05-24:2.414.0', '2021-05-24:2.415.0',\n",
       "       '2021-05-24:2.416.0', '2021-05-24:2.417.0', '2021-05-24:2.418.0',\n",
       "       '2021-05-24:2.419.0', '2021-05-26:4.410.0', '2021-05-26:4.411.0',\n",
       "       '2021-05-26:4.412.0', '2021-05-26:4.413.0', '2021-05-26:4.414.0',\n",
       "       '2021-05-26:4.415.0', '2021-05-26:4.416.0', '2021-05-26:4.417.0',\n",
       "       '2021-05-26:4.418.0', '2021-05-26:4.419.0', '2021-05-28:6.411.0',\n",
       "       '2021-05-28:6.412.0', '2021-05-28:6.412.5', '2021-05-28:6.413.0',\n",
       "       '2021-05-28:6.414.0', '2021-05-28:6.415.0', '2021-05-28:6.416.0',\n",
       "       '2021-05-28:6.417.0', '2021-05-28:6.417.5', '2021-05-28:6.418.0',\n",
       "       '2021-06-01:10.410.0', '2021-06-01:10.411.0', '2021-06-01:10.412.0',\n",
       "       '2021-06-01:10.413.0', '2021-06-01:10.414.0', '2021-06-01:10.415.0',\n",
       "       '2021-06-01:10.416.0', '2021-06-01:10.417.0', '2021-06-01:10.418.0',\n",
       "       '2021-06-01:10.419.0', '2021-06-02:11.410.0', '2021-06-02:11.411.0',\n",
       "       '2021-06-02:11.412.0', '2021-06-02:11.413.0', '2021-06-02:11.414.0',\n",
       "       '2021-06-02:11.415.0', '2021-06-02:11.416.0', '2021-06-02:11.417.0',\n",
       "       '2021-06-02:11.418.0', '2021-06-02:11.419.0', '2021-06-04:13.411.0',\n",
       "       '2021-06-04:13.412.0', '2021-06-04:13.412.5', '2021-06-04:13.413.0',\n",
       "       '2021-06-04:13.414.0', '2021-06-04:13.415.0', '2021-06-04:13.416.0',\n",
       "       '2021-06-04:13.417.0', '2021-06-04:13.417.5', '2021-06-04:13.418.0'],\n",
       "      dtype='object')"
      ]
     },
     "execution_count": 16,
     "metadata": {},
     "output_type": "execute_result"
    }
   ],
   "source": [
    "call_chain.keys()"
   ]
  },
  {
   "cell_type": "code",
   "execution_count": 17,
   "metadata": {},
   "outputs": [
    {
     "data": {
      "text/plain": [
       "0    [{'putCall': 'CALL', 'symbol': 'SPY_052421C410...\n",
       "Name: 2021-05-24:2.410.0, dtype: object"
      ]
     },
     "execution_count": 17,
     "metadata": {},
     "output_type": "execute_result"
    }
   ],
   "source": [
    "call_chain['2021-05-24:2.410.0']"
   ]
  },
  {
   "cell_type": "code",
   "execution_count": null,
   "metadata": {},
   "outputs": [],
   "source": []
  }
 ],
 "metadata": {
  "kernelspec": {
   "display_name": "Python 3",
   "language": "python",
   "name": "python3"
  },
  "language_info": {
   "codemirror_mode": {
    "name": "ipython",
    "version": 3
   },
   "file_extension": ".py",
   "mimetype": "text/x-python",
   "name": "python",
   "nbconvert_exporter": "python",
   "pygments_lexer": "ipython3",
   "version": "3.8.5"
  }
 },
 "nbformat": 4,
 "nbformat_minor": 4
}
